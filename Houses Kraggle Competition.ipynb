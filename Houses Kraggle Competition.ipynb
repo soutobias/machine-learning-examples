{
 "cells": [
  {
   "cell_type": "markdown",
   "metadata": {},
   "source": [
    "# Kraggle competition - houses prices"
   ]
  },
  {
   "cell_type": "code",
   "execution_count": 75,
   "metadata": {
    "ExecuteTime": {
     "end_time": "2021-02-03T08:28:54.927307Z",
     "start_time": "2021-02-03T08:28:52.939178Z"
    }
   },
   "outputs": [],
   "source": [
    "import pandas as pd\n",
    "import numpy as np\n",
    "import matplotlib.pyplot as plt\n",
    "import seaborn as sns\n",
    "\n",
    "from sklearn.model_selection import train_test_split\n",
    "from sklearn.preprocessing import FunctionTransformer\n",
    "from sklearn.compose import ColumnTransformer, make_column_transformer\n",
    "from sklearn.pipeline import FeatureUnion\n",
    "from sklearn.preprocessing import OneHotEncoder\n",
    "from sklearn.preprocessing import OrdinalEncoder\n",
    "from sklearn.pipeline import Pipeline\n",
    "from sklearn.neighbors import KNeighborsRegressor\n",
    "from sklearn.impute import SimpleImputer\n",
    "from sklearn.preprocessing import StandardScaler\n",
    "from sklearn.preprocessing import RobustScaler\n",
    "from sklearn.preprocessing import MinMaxScaler\n",
    "from sklearn.linear_model import Ridge\n",
    "from sklearn.linear_model import LinearRegression\n",
    "from sklearn.compose import make_column_selector\n",
    "from sklearn.pipeline import make_pipeline\n",
    "from sklearn.metrics import make_scorer\n",
    "from sklearn.model_selection import cross_validate\n",
    "from sklearn.model_selection import cross_val_score\n",
    "from sklearn.metrics import mean_squared_log_error\n",
    "from sklearn.feature_selection import SelectPercentile\n",
    "from sklearn.feature_selection import mutual_info_regression\n",
    "from sklearn.metrics import mean_squared_error\n",
    "from sklearn.svm import SVR\n",
    "from sklearn.ensemble import RandomForestRegressor\n",
    "from sklearn import set_config; set_config(display='diagram')\n",
    "\n",
    "from xgboost import XGBRegressor"
   ]
  },
  {
   "cell_type": "code",
   "execution_count": 3,
   "metadata": {
    "tags": [
     "challengify"
    ]
   },
   "outputs": [
    {
     "data": {
      "text/html": [
       "<div>\n",
       "<style scoped>\n",
       "    .dataframe tbody tr th:only-of-type {\n",
       "        vertical-align: middle;\n",
       "    }\n",
       "\n",
       "    .dataframe tbody tr th {\n",
       "        vertical-align: top;\n",
       "    }\n",
       "\n",
       "    .dataframe thead th {\n",
       "        text-align: right;\n",
       "    }\n",
       "</style>\n",
       "<table border=\"1\" class=\"dataframe\">\n",
       "  <thead>\n",
       "    <tr style=\"text-align: right;\">\n",
       "      <th></th>\n",
       "      <th>Id</th>\n",
       "      <th>MSSubClass</th>\n",
       "      <th>MSZoning</th>\n",
       "      <th>LotFrontage</th>\n",
       "      <th>LotArea</th>\n",
       "      <th>Street</th>\n",
       "      <th>Alley</th>\n",
       "      <th>LotShape</th>\n",
       "      <th>LandContour</th>\n",
       "      <th>Utilities</th>\n",
       "      <th>...</th>\n",
       "      <th>PoolArea</th>\n",
       "      <th>PoolQC</th>\n",
       "      <th>Fence</th>\n",
       "      <th>MiscFeature</th>\n",
       "      <th>MiscVal</th>\n",
       "      <th>MoSold</th>\n",
       "      <th>YrSold</th>\n",
       "      <th>SaleType</th>\n",
       "      <th>SaleCondition</th>\n",
       "      <th>SalePrice</th>\n",
       "    </tr>\n",
       "  </thead>\n",
       "  <tbody>\n",
       "    <tr>\n",
       "      <th>0</th>\n",
       "      <td>1</td>\n",
       "      <td>60</td>\n",
       "      <td>RL</td>\n",
       "      <td>65.0</td>\n",
       "      <td>8450</td>\n",
       "      <td>Pave</td>\n",
       "      <td>NaN</td>\n",
       "      <td>Reg</td>\n",
       "      <td>Lvl</td>\n",
       "      <td>AllPub</td>\n",
       "      <td>...</td>\n",
       "      <td>0</td>\n",
       "      <td>NaN</td>\n",
       "      <td>NaN</td>\n",
       "      <td>NaN</td>\n",
       "      <td>0</td>\n",
       "      <td>2</td>\n",
       "      <td>2008</td>\n",
       "      <td>WD</td>\n",
       "      <td>Normal</td>\n",
       "      <td>208500</td>\n",
       "    </tr>\n",
       "    <tr>\n",
       "      <th>1</th>\n",
       "      <td>2</td>\n",
       "      <td>20</td>\n",
       "      <td>RL</td>\n",
       "      <td>80.0</td>\n",
       "      <td>9600</td>\n",
       "      <td>Pave</td>\n",
       "      <td>NaN</td>\n",
       "      <td>Reg</td>\n",
       "      <td>Lvl</td>\n",
       "      <td>AllPub</td>\n",
       "      <td>...</td>\n",
       "      <td>0</td>\n",
       "      <td>NaN</td>\n",
       "      <td>NaN</td>\n",
       "      <td>NaN</td>\n",
       "      <td>0</td>\n",
       "      <td>5</td>\n",
       "      <td>2007</td>\n",
       "      <td>WD</td>\n",
       "      <td>Normal</td>\n",
       "      <td>181500</td>\n",
       "    </tr>\n",
       "    <tr>\n",
       "      <th>2</th>\n",
       "      <td>3</td>\n",
       "      <td>60</td>\n",
       "      <td>RL</td>\n",
       "      <td>68.0</td>\n",
       "      <td>11250</td>\n",
       "      <td>Pave</td>\n",
       "      <td>NaN</td>\n",
       "      <td>IR1</td>\n",
       "      <td>Lvl</td>\n",
       "      <td>AllPub</td>\n",
       "      <td>...</td>\n",
       "      <td>0</td>\n",
       "      <td>NaN</td>\n",
       "      <td>NaN</td>\n",
       "      <td>NaN</td>\n",
       "      <td>0</td>\n",
       "      <td>9</td>\n",
       "      <td>2008</td>\n",
       "      <td>WD</td>\n",
       "      <td>Normal</td>\n",
       "      <td>223500</td>\n",
       "    </tr>\n",
       "    <tr>\n",
       "      <th>3</th>\n",
       "      <td>4</td>\n",
       "      <td>70</td>\n",
       "      <td>RL</td>\n",
       "      <td>60.0</td>\n",
       "      <td>9550</td>\n",
       "      <td>Pave</td>\n",
       "      <td>NaN</td>\n",
       "      <td>IR1</td>\n",
       "      <td>Lvl</td>\n",
       "      <td>AllPub</td>\n",
       "      <td>...</td>\n",
       "      <td>0</td>\n",
       "      <td>NaN</td>\n",
       "      <td>NaN</td>\n",
       "      <td>NaN</td>\n",
       "      <td>0</td>\n",
       "      <td>2</td>\n",
       "      <td>2006</td>\n",
       "      <td>WD</td>\n",
       "      <td>Abnorml</td>\n",
       "      <td>140000</td>\n",
       "    </tr>\n",
       "    <tr>\n",
       "      <th>4</th>\n",
       "      <td>5</td>\n",
       "      <td>60</td>\n",
       "      <td>RL</td>\n",
       "      <td>84.0</td>\n",
       "      <td>14260</td>\n",
       "      <td>Pave</td>\n",
       "      <td>NaN</td>\n",
       "      <td>IR1</td>\n",
       "      <td>Lvl</td>\n",
       "      <td>AllPub</td>\n",
       "      <td>...</td>\n",
       "      <td>0</td>\n",
       "      <td>NaN</td>\n",
       "      <td>NaN</td>\n",
       "      <td>NaN</td>\n",
       "      <td>0</td>\n",
       "      <td>12</td>\n",
       "      <td>2008</td>\n",
       "      <td>WD</td>\n",
       "      <td>Normal</td>\n",
       "      <td>250000</td>\n",
       "    </tr>\n",
       "  </tbody>\n",
       "</table>\n",
       "<p>5 rows × 81 columns</p>\n",
       "</div>"
      ],
      "text/plain": [
       "   Id  MSSubClass MSZoning  LotFrontage  LotArea Street Alley LotShape  \\\n",
       "0   1          60       RL         65.0     8450   Pave   NaN      Reg   \n",
       "1   2          20       RL         80.0     9600   Pave   NaN      Reg   \n",
       "2   3          60       RL         68.0    11250   Pave   NaN      IR1   \n",
       "3   4          70       RL         60.0     9550   Pave   NaN      IR1   \n",
       "4   5          60       RL         84.0    14260   Pave   NaN      IR1   \n",
       "\n",
       "  LandContour Utilities  ... PoolArea PoolQC Fence MiscFeature MiscVal MoSold  \\\n",
       "0         Lvl    AllPub  ...        0    NaN   NaN         NaN       0      2   \n",
       "1         Lvl    AllPub  ...        0    NaN   NaN         NaN       0      5   \n",
       "2         Lvl    AllPub  ...        0    NaN   NaN         NaN       0      9   \n",
       "3         Lvl    AllPub  ...        0    NaN   NaN         NaN       0      2   \n",
       "4         Lvl    AllPub  ...        0    NaN   NaN         NaN       0     12   \n",
       "\n",
       "  YrSold  SaleType  SaleCondition  SalePrice  \n",
       "0   2008        WD         Normal     208500  \n",
       "1   2007        WD         Normal     181500  \n",
       "2   2008        WD         Normal     223500  \n",
       "3   2006        WD        Abnorml     140000  \n",
       "4   2008        WD         Normal     250000  \n",
       "\n",
       "[5 rows x 81 columns]"
      ]
     },
     "execution_count": 3,
     "metadata": {},
     "output_type": "execute_result"
    }
   ],
   "source": [
    "data = pd.read_csv(\"data/houses_kraggle.csv\")\n",
    "data.head()"
   ]
  },
  {
   "cell_type": "code",
   "execution_count": 5,
   "metadata": {
    "ExecuteTime": {
     "end_time": "2021-02-03T08:28:56.210320Z",
     "start_time": "2021-02-03T08:28:56.204853Z"
    }
   },
   "outputs": [],
   "source": [
    "X = data.drop(columns='SalePrice')\n",
    "y = data['SalePrice']"
   ]
  },
  {
   "cell_type": "markdown",
   "metadata": {},
   "source": [
    "## Baseline Preprocessing"
   ]
  },
  {
   "cell_type": "markdown",
   "metadata": {},
   "source": [
    "### Reduce complexity of model"
   ]
  },
  {
   "cell_type": "code",
   "execution_count": 18,
   "metadata": {},
   "outputs": [
    {
     "data": {
      "text/plain": [
       "37"
      ]
     },
     "execution_count": 18,
     "metadata": {},
     "output_type": "execute_result"
    }
   ],
   "source": [
    "num_col = X.select_dtypes(exclude = 'object').columns\n",
    "num_col.size"
   ]
  },
  {
   "cell_type": "code",
   "execution_count": 19,
   "metadata": {},
   "outputs": [
    {
     "name": "stdout",
     "output_type": "stream",
     "text": [
      "43\n"
     ]
    },
    {
     "data": {
      "text/plain": [
       "252"
      ]
     },
     "execution_count": 19,
     "metadata": {},
     "output_type": "execute_result"
    }
   ],
   "source": [
    "print(X.select_dtypes(include = 'object').columns.size)\n",
    "feat_categorical_nunique = X.select_dtypes('object').nunique().sum()\n",
    "feat_categorical_nunique"
   ]
  },
  {
   "cell_type": "code",
   "execution_count": 20,
   "metadata": {},
   "outputs": [
    {
     "data": {
      "text/plain": [
       "34"
      ]
     },
     "execution_count": 20,
     "metadata": {},
     "output_type": "execute_result"
    }
   ],
   "source": [
    "w = X.select_dtypes('object').nunique()\n",
    "feat_categorical_small = list(w[(w <7)].index)\n",
    "len(feat_categorical_small)"
   ]
  },
  {
   "cell_type": "markdown",
   "metadata": {},
   "source": [
    "### Impute, scale and encode"
   ]
  },
  {
   "cell_type": "code",
   "execution_count": 21,
   "metadata": {
    "tags": [
     "challengify"
    ]
   },
   "outputs": [
    {
     "data": {
      "text/html": [
       "<style>#sk-50efa906-5b09-407f-bae3-f161b39c6fa2 {color: black;background-color: white;}#sk-50efa906-5b09-407f-bae3-f161b39c6fa2 pre{padding: 0;}#sk-50efa906-5b09-407f-bae3-f161b39c6fa2 div.sk-toggleable {background-color: white;}#sk-50efa906-5b09-407f-bae3-f161b39c6fa2 label.sk-toggleable__label {cursor: pointer;display: block;width: 100%;margin-bottom: 0;padding: 0.3em;box-sizing: border-box;text-align: center;}#sk-50efa906-5b09-407f-bae3-f161b39c6fa2 label.sk-toggleable__label-arrow:before {content: \"▸\";float: left;margin-right: 0.25em;color: #696969;}#sk-50efa906-5b09-407f-bae3-f161b39c6fa2 label.sk-toggleable__label-arrow:hover:before {color: black;}#sk-50efa906-5b09-407f-bae3-f161b39c6fa2 div.sk-estimator:hover label.sk-toggleable__label-arrow:before {color: black;}#sk-50efa906-5b09-407f-bae3-f161b39c6fa2 div.sk-toggleable__content {max-height: 0;max-width: 0;overflow: hidden;text-align: left;background-color: #f0f8ff;}#sk-50efa906-5b09-407f-bae3-f161b39c6fa2 div.sk-toggleable__content pre {margin: 0.2em;color: black;border-radius: 0.25em;background-color: #f0f8ff;}#sk-50efa906-5b09-407f-bae3-f161b39c6fa2 input.sk-toggleable__control:checked~div.sk-toggleable__content {max-height: 200px;max-width: 100%;overflow: auto;}#sk-50efa906-5b09-407f-bae3-f161b39c6fa2 input.sk-toggleable__control:checked~label.sk-toggleable__label-arrow:before {content: \"▾\";}#sk-50efa906-5b09-407f-bae3-f161b39c6fa2 div.sk-estimator input.sk-toggleable__control:checked~label.sk-toggleable__label {background-color: #d4ebff;}#sk-50efa906-5b09-407f-bae3-f161b39c6fa2 div.sk-label input.sk-toggleable__control:checked~label.sk-toggleable__label {background-color: #d4ebff;}#sk-50efa906-5b09-407f-bae3-f161b39c6fa2 input.sk-hidden--visually {border: 0;clip: rect(1px 1px 1px 1px);clip: rect(1px, 1px, 1px, 1px);height: 1px;margin: -1px;overflow: hidden;padding: 0;position: absolute;width: 1px;}#sk-50efa906-5b09-407f-bae3-f161b39c6fa2 div.sk-estimator {font-family: monospace;background-color: #f0f8ff;border: 1px dotted black;border-radius: 0.25em;box-sizing: border-box;margin-bottom: 0.5em;}#sk-50efa906-5b09-407f-bae3-f161b39c6fa2 div.sk-estimator:hover {background-color: #d4ebff;}#sk-50efa906-5b09-407f-bae3-f161b39c6fa2 div.sk-parallel-item::after {content: \"\";width: 100%;border-bottom: 1px solid gray;flex-grow: 1;}#sk-50efa906-5b09-407f-bae3-f161b39c6fa2 div.sk-label:hover label.sk-toggleable__label {background-color: #d4ebff;}#sk-50efa906-5b09-407f-bae3-f161b39c6fa2 div.sk-serial::before {content: \"\";position: absolute;border-left: 1px solid gray;box-sizing: border-box;top: 2em;bottom: 0;left: 50%;}#sk-50efa906-5b09-407f-bae3-f161b39c6fa2 div.sk-serial {display: flex;flex-direction: column;align-items: center;background-color: white;padding-right: 0.2em;padding-left: 0.2em;}#sk-50efa906-5b09-407f-bae3-f161b39c6fa2 div.sk-item {z-index: 1;}#sk-50efa906-5b09-407f-bae3-f161b39c6fa2 div.sk-parallel {display: flex;align-items: stretch;justify-content: center;background-color: white;}#sk-50efa906-5b09-407f-bae3-f161b39c6fa2 div.sk-parallel::before {content: \"\";position: absolute;border-left: 1px solid gray;box-sizing: border-box;top: 2em;bottom: 0;left: 50%;}#sk-50efa906-5b09-407f-bae3-f161b39c6fa2 div.sk-parallel-item {display: flex;flex-direction: column;position: relative;background-color: white;}#sk-50efa906-5b09-407f-bae3-f161b39c6fa2 div.sk-parallel-item:first-child::after {align-self: flex-end;width: 50%;}#sk-50efa906-5b09-407f-bae3-f161b39c6fa2 div.sk-parallel-item:last-child::after {align-self: flex-start;width: 50%;}#sk-50efa906-5b09-407f-bae3-f161b39c6fa2 div.sk-parallel-item:only-child::after {width: 0;}#sk-50efa906-5b09-407f-bae3-f161b39c6fa2 div.sk-dashed-wrapped {border: 1px dashed gray;margin: 0 0.4em 0.5em 0.4em;box-sizing: border-box;padding-bottom: 0.4em;background-color: white;position: relative;}#sk-50efa906-5b09-407f-bae3-f161b39c6fa2 div.sk-label label {font-family: monospace;font-weight: bold;background-color: white;display: inline-block;line-height: 1.2em;}#sk-50efa906-5b09-407f-bae3-f161b39c6fa2 div.sk-label-container {position: relative;z-index: 2;text-align: center;}#sk-50efa906-5b09-407f-bae3-f161b39c6fa2 div.sk-container {/* jupyter's `normalize.less` sets `[hidden] { display: none; }` but bootstrap.min.css set `[hidden] { display: none !important; }` so we also need the `!important` here to be able to override the default hidden behavior on the sphinx rendered scikit-learn.org. See: https://github.com/scikit-learn/scikit-learn/issues/21755 */display: inline-block !important;position: relative;}#sk-50efa906-5b09-407f-bae3-f161b39c6fa2 div.sk-text-repr-fallback {display: none;}</style><div id=\"sk-50efa906-5b09-407f-bae3-f161b39c6fa2\" class=\"sk-top-container\"><div class=\"sk-text-repr-fallback\"><pre>ColumnTransformer(transformers=[(&#x27;pipeline-1&#x27;,\n",
       "                                 Pipeline(steps=[(&#x27;simpleimputer&#x27;,\n",
       "                                                  SimpleImputer(strategy=&#x27;most_frequent&#x27;)),\n",
       "                                                 (&#x27;onehotencoder&#x27;,\n",
       "                                                  OneHotEncoder(handle_unknown=&#x27;ignore&#x27;))]),\n",
       "                                 [&#x27;MSZoning&#x27;, &#x27;Street&#x27;, &#x27;Alley&#x27;, &#x27;LotShape&#x27;,\n",
       "                                  &#x27;LandContour&#x27;, &#x27;Utilities&#x27;, &#x27;LotConfig&#x27;,\n",
       "                                  &#x27;LandSlope&#x27;, &#x27;BldgType&#x27;, &#x27;RoofStyle&#x27;,\n",
       "                                  &#x27;MasVnrType&#x27;, &#x27;ExterQual&#x27;, &#x27;ExterCond&#x27;,\n",
       "                                  &#x27;Foundation&#x27;, &#x27;BsmtQua...\n",
       "       &#x27;BsmtFinSF2&#x27;, &#x27;BsmtUnfSF&#x27;, &#x27;TotalBsmtSF&#x27;, &#x27;1stFlrSF&#x27;, &#x27;2ndFlrSF&#x27;,\n",
       "       &#x27;LowQualFinSF&#x27;, &#x27;GrLivArea&#x27;, &#x27;BsmtFullBath&#x27;, &#x27;BsmtHalfBath&#x27;, &#x27;FullBath&#x27;,\n",
       "       &#x27;HalfBath&#x27;, &#x27;BedroomAbvGr&#x27;, &#x27;KitchenAbvGr&#x27;, &#x27;TotRmsAbvGrd&#x27;,\n",
       "       &#x27;Fireplaces&#x27;, &#x27;GarageYrBlt&#x27;, &#x27;GarageCars&#x27;, &#x27;GarageArea&#x27;, &#x27;WoodDeckSF&#x27;,\n",
       "       &#x27;OpenPorchSF&#x27;, &#x27;EnclosedPorch&#x27;, &#x27;3SsnPorch&#x27;, &#x27;ScreenPorch&#x27;, &#x27;PoolArea&#x27;,\n",
       "       &#x27;MiscVal&#x27;, &#x27;MoSold&#x27;, &#x27;YrSold&#x27;],\n",
       "      dtype=&#x27;object&#x27;))])</pre><b>Please rerun this cell to show the HTML repr or trust the notebook.</b></div><div class=\"sk-container\" hidden><div class=\"sk-item sk-dashed-wrapped\"><div class=\"sk-label-container\"><div class=\"sk-label sk-toggleable\"><input class=\"sk-toggleable__control sk-hidden--visually\" id=\"7aab7c02-7eb9-4812-a910-c3816c3ae5d1\" type=\"checkbox\" ><label for=\"7aab7c02-7eb9-4812-a910-c3816c3ae5d1\" class=\"sk-toggleable__label sk-toggleable__label-arrow\">ColumnTransformer</label><div class=\"sk-toggleable__content\"><pre>ColumnTransformer(transformers=[(&#x27;pipeline-1&#x27;,\n",
       "                                 Pipeline(steps=[(&#x27;simpleimputer&#x27;,\n",
       "                                                  SimpleImputer(strategy=&#x27;most_frequent&#x27;)),\n",
       "                                                 (&#x27;onehotencoder&#x27;,\n",
       "                                                  OneHotEncoder(handle_unknown=&#x27;ignore&#x27;))]),\n",
       "                                 [&#x27;MSZoning&#x27;, &#x27;Street&#x27;, &#x27;Alley&#x27;, &#x27;LotShape&#x27;,\n",
       "                                  &#x27;LandContour&#x27;, &#x27;Utilities&#x27;, &#x27;LotConfig&#x27;,\n",
       "                                  &#x27;LandSlope&#x27;, &#x27;BldgType&#x27;, &#x27;RoofStyle&#x27;,\n",
       "                                  &#x27;MasVnrType&#x27;, &#x27;ExterQual&#x27;, &#x27;ExterCond&#x27;,\n",
       "                                  &#x27;Foundation&#x27;, &#x27;BsmtQua...\n",
       "       &#x27;BsmtFinSF2&#x27;, &#x27;BsmtUnfSF&#x27;, &#x27;TotalBsmtSF&#x27;, &#x27;1stFlrSF&#x27;, &#x27;2ndFlrSF&#x27;,\n",
       "       &#x27;LowQualFinSF&#x27;, &#x27;GrLivArea&#x27;, &#x27;BsmtFullBath&#x27;, &#x27;BsmtHalfBath&#x27;, &#x27;FullBath&#x27;,\n",
       "       &#x27;HalfBath&#x27;, &#x27;BedroomAbvGr&#x27;, &#x27;KitchenAbvGr&#x27;, &#x27;TotRmsAbvGrd&#x27;,\n",
       "       &#x27;Fireplaces&#x27;, &#x27;GarageYrBlt&#x27;, &#x27;GarageCars&#x27;, &#x27;GarageArea&#x27;, &#x27;WoodDeckSF&#x27;,\n",
       "       &#x27;OpenPorchSF&#x27;, &#x27;EnclosedPorch&#x27;, &#x27;3SsnPorch&#x27;, &#x27;ScreenPorch&#x27;, &#x27;PoolArea&#x27;,\n",
       "       &#x27;MiscVal&#x27;, &#x27;MoSold&#x27;, &#x27;YrSold&#x27;],\n",
       "      dtype=&#x27;object&#x27;))])</pre></div></div></div><div class=\"sk-parallel\"><div class=\"sk-parallel-item\"><div class=\"sk-item\"><div class=\"sk-label-container\"><div class=\"sk-label sk-toggleable\"><input class=\"sk-toggleable__control sk-hidden--visually\" id=\"55eecfec-eb1f-4ecf-be94-7910f0e42a27\" type=\"checkbox\" ><label for=\"55eecfec-eb1f-4ecf-be94-7910f0e42a27\" class=\"sk-toggleable__label sk-toggleable__label-arrow\">pipeline-1</label><div class=\"sk-toggleable__content\"><pre>[&#x27;MSZoning&#x27;, &#x27;Street&#x27;, &#x27;Alley&#x27;, &#x27;LotShape&#x27;, &#x27;LandContour&#x27;, &#x27;Utilities&#x27;, &#x27;LotConfig&#x27;, &#x27;LandSlope&#x27;, &#x27;BldgType&#x27;, &#x27;RoofStyle&#x27;, &#x27;MasVnrType&#x27;, &#x27;ExterQual&#x27;, &#x27;ExterCond&#x27;, &#x27;Foundation&#x27;, &#x27;BsmtQual&#x27;, &#x27;BsmtCond&#x27;, &#x27;BsmtExposure&#x27;, &#x27;BsmtFinType1&#x27;, &#x27;BsmtFinType2&#x27;, &#x27;Heating&#x27;, &#x27;HeatingQC&#x27;, &#x27;CentralAir&#x27;, &#x27;Electrical&#x27;, &#x27;KitchenQual&#x27;, &#x27;FireplaceQu&#x27;, &#x27;GarageType&#x27;, &#x27;GarageFinish&#x27;, &#x27;GarageQual&#x27;, &#x27;GarageCond&#x27;, &#x27;PavedDrive&#x27;, &#x27;PoolQC&#x27;, &#x27;Fence&#x27;, &#x27;MiscFeature&#x27;, &#x27;SaleCondition&#x27;]</pre></div></div></div><div class=\"sk-serial\"><div class=\"sk-item\"><div class=\"sk-serial\"><div class=\"sk-item\"><div class=\"sk-estimator sk-toggleable\"><input class=\"sk-toggleable__control sk-hidden--visually\" id=\"1fb3d710-ceaa-415d-925c-bc6d0e1f05a6\" type=\"checkbox\" ><label for=\"1fb3d710-ceaa-415d-925c-bc6d0e1f05a6\" class=\"sk-toggleable__label sk-toggleable__label-arrow\">SimpleImputer</label><div class=\"sk-toggleable__content\"><pre>SimpleImputer(strategy=&#x27;most_frequent&#x27;)</pre></div></div></div><div class=\"sk-item\"><div class=\"sk-estimator sk-toggleable\"><input class=\"sk-toggleable__control sk-hidden--visually\" id=\"5d011fba-c25b-4c67-bd7f-44abe1412ae9\" type=\"checkbox\" ><label for=\"5d011fba-c25b-4c67-bd7f-44abe1412ae9\" class=\"sk-toggleable__label sk-toggleable__label-arrow\">OneHotEncoder</label><div class=\"sk-toggleable__content\"><pre>OneHotEncoder(handle_unknown=&#x27;ignore&#x27;)</pre></div></div></div></div></div></div></div></div><div class=\"sk-parallel-item\"><div class=\"sk-item\"><div class=\"sk-label-container\"><div class=\"sk-label sk-toggleable\"><input class=\"sk-toggleable__control sk-hidden--visually\" id=\"55c7ed6b-a06f-4e4f-a254-a7f2b5408057\" type=\"checkbox\" ><label for=\"55c7ed6b-a06f-4e4f-a254-a7f2b5408057\" class=\"sk-toggleable__label sk-toggleable__label-arrow\">pipeline-2</label><div class=\"sk-toggleable__content\"><pre>Index([&#x27;Id&#x27;, &#x27;MSSubClass&#x27;, &#x27;LotFrontage&#x27;, &#x27;LotArea&#x27;, &#x27;OverallQual&#x27;,\n",
       "       &#x27;OverallCond&#x27;, &#x27;YearBuilt&#x27;, &#x27;YearRemodAdd&#x27;, &#x27;MasVnrArea&#x27;, &#x27;BsmtFinSF1&#x27;,\n",
       "       &#x27;BsmtFinSF2&#x27;, &#x27;BsmtUnfSF&#x27;, &#x27;TotalBsmtSF&#x27;, &#x27;1stFlrSF&#x27;, &#x27;2ndFlrSF&#x27;,\n",
       "       &#x27;LowQualFinSF&#x27;, &#x27;GrLivArea&#x27;, &#x27;BsmtFullBath&#x27;, &#x27;BsmtHalfBath&#x27;, &#x27;FullBath&#x27;,\n",
       "       &#x27;HalfBath&#x27;, &#x27;BedroomAbvGr&#x27;, &#x27;KitchenAbvGr&#x27;, &#x27;TotRmsAbvGrd&#x27;,\n",
       "       &#x27;Fireplaces&#x27;, &#x27;GarageYrBlt&#x27;, &#x27;GarageCars&#x27;, &#x27;GarageArea&#x27;, &#x27;WoodDeckSF&#x27;,\n",
       "       &#x27;OpenPorchSF&#x27;, &#x27;EnclosedPorch&#x27;, &#x27;3SsnPorch&#x27;, &#x27;ScreenPorch&#x27;, &#x27;PoolArea&#x27;,\n",
       "       &#x27;MiscVal&#x27;, &#x27;MoSold&#x27;, &#x27;YrSold&#x27;],\n",
       "      dtype=&#x27;object&#x27;)</pre></div></div></div><div class=\"sk-serial\"><div class=\"sk-item\"><div class=\"sk-serial\"><div class=\"sk-item\"><div class=\"sk-estimator sk-toggleable\"><input class=\"sk-toggleable__control sk-hidden--visually\" id=\"512bbec4-9682-465f-9d94-a0fd5dde9ac1\" type=\"checkbox\" ><label for=\"512bbec4-9682-465f-9d94-a0fd5dde9ac1\" class=\"sk-toggleable__label sk-toggleable__label-arrow\">SimpleImputer</label><div class=\"sk-toggleable__content\"><pre>SimpleImputer()</pre></div></div></div><div class=\"sk-item\"><div class=\"sk-estimator sk-toggleable\"><input class=\"sk-toggleable__control sk-hidden--visually\" id=\"b6e2f47a-9447-48bc-a8d6-34d33d4557f5\" type=\"checkbox\" ><label for=\"b6e2f47a-9447-48bc-a8d6-34d33d4557f5\" class=\"sk-toggleable__label sk-toggleable__label-arrow\">MinMaxScaler</label><div class=\"sk-toggleable__content\"><pre>MinMaxScaler()</pre></div></div></div></div></div></div></div></div></div></div></div></div>"
      ],
      "text/plain": [
       "ColumnTransformer(transformers=[('pipeline-1',\n",
       "                                 Pipeline(steps=[('simpleimputer',\n",
       "                                                  SimpleImputer(strategy='most_frequent')),\n",
       "                                                 ('onehotencoder',\n",
       "                                                  OneHotEncoder(handle_unknown='ignore'))]),\n",
       "                                 ['MSZoning', 'Street', 'Alley', 'LotShape',\n",
       "                                  'LandContour', 'Utilities', 'LotConfig',\n",
       "                                  'LandSlope', 'BldgType', 'RoofStyle',\n",
       "                                  'MasVnrType', 'ExterQual', 'ExterCond',\n",
       "                                  'Foundation', 'BsmtQua...\n",
       "       'BsmtFinSF2', 'BsmtUnfSF', 'TotalBsmtSF', '1stFlrSF', '2ndFlrSF',\n",
       "       'LowQualFinSF', 'GrLivArea', 'BsmtFullBath', 'BsmtHalfBath', 'FullBath',\n",
       "       'HalfBath', 'BedroomAbvGr', 'KitchenAbvGr', 'TotRmsAbvGrd',\n",
       "       'Fireplaces', 'GarageYrBlt', 'GarageCars', 'GarageArea', 'WoodDeckSF',\n",
       "       'OpenPorchSF', 'EnclosedPorch', '3SsnPorch', 'ScreenPorch', 'PoolArea',\n",
       "       'MiscVal', 'MoSold', 'YrSold'],\n",
       "      dtype='object'))])"
      ]
     },
     "execution_count": 21,
     "metadata": {},
     "output_type": "execute_result"
    }
   ],
   "source": [
    "cat_transform = make_pipeline(SimpleImputer(strategy='most_frequent'), OneHotEncoder(handle_unknown='ignore'))\n",
    "num_transform = make_pipeline(SimpleImputer(strategy='mean'), MinMaxScaler())\n",
    "\n",
    "preproc_baseline = make_column_transformer((cat_transform, feat_categorical_small), (num_transform, num_col))\n",
    "preproc_baseline"
   ]
  },
  {
   "cell_type": "code",
   "execution_count": 22,
   "metadata": {},
   "outputs": [],
   "source": [
    "X_scaled = preproc_baseline.fit_transform(X)"
   ]
  },
  {
   "cell_type": "markdown",
   "metadata": {},
   "source": [
    "## Baseline Models"
   ]
  },
  {
   "cell_type": "code",
   "execution_count": 23,
   "metadata": {
    "tags": [
     "challengify"
    ]
   },
   "outputs": [
    {
     "data": {
      "text/html": [
       "<style>#sk-25ce7f95-1032-45b7-808f-9a1fc972be9b {color: black;background-color: white;}#sk-25ce7f95-1032-45b7-808f-9a1fc972be9b pre{padding: 0;}#sk-25ce7f95-1032-45b7-808f-9a1fc972be9b div.sk-toggleable {background-color: white;}#sk-25ce7f95-1032-45b7-808f-9a1fc972be9b label.sk-toggleable__label {cursor: pointer;display: block;width: 100%;margin-bottom: 0;padding: 0.3em;box-sizing: border-box;text-align: center;}#sk-25ce7f95-1032-45b7-808f-9a1fc972be9b label.sk-toggleable__label-arrow:before {content: \"▸\";float: left;margin-right: 0.25em;color: #696969;}#sk-25ce7f95-1032-45b7-808f-9a1fc972be9b label.sk-toggleable__label-arrow:hover:before {color: black;}#sk-25ce7f95-1032-45b7-808f-9a1fc972be9b div.sk-estimator:hover label.sk-toggleable__label-arrow:before {color: black;}#sk-25ce7f95-1032-45b7-808f-9a1fc972be9b div.sk-toggleable__content {max-height: 0;max-width: 0;overflow: hidden;text-align: left;background-color: #f0f8ff;}#sk-25ce7f95-1032-45b7-808f-9a1fc972be9b div.sk-toggleable__content pre {margin: 0.2em;color: black;border-radius: 0.25em;background-color: #f0f8ff;}#sk-25ce7f95-1032-45b7-808f-9a1fc972be9b input.sk-toggleable__control:checked~div.sk-toggleable__content {max-height: 200px;max-width: 100%;overflow: auto;}#sk-25ce7f95-1032-45b7-808f-9a1fc972be9b input.sk-toggleable__control:checked~label.sk-toggleable__label-arrow:before {content: \"▾\";}#sk-25ce7f95-1032-45b7-808f-9a1fc972be9b div.sk-estimator input.sk-toggleable__control:checked~label.sk-toggleable__label {background-color: #d4ebff;}#sk-25ce7f95-1032-45b7-808f-9a1fc972be9b div.sk-label input.sk-toggleable__control:checked~label.sk-toggleable__label {background-color: #d4ebff;}#sk-25ce7f95-1032-45b7-808f-9a1fc972be9b input.sk-hidden--visually {border: 0;clip: rect(1px 1px 1px 1px);clip: rect(1px, 1px, 1px, 1px);height: 1px;margin: -1px;overflow: hidden;padding: 0;position: absolute;width: 1px;}#sk-25ce7f95-1032-45b7-808f-9a1fc972be9b div.sk-estimator {font-family: monospace;background-color: #f0f8ff;border: 1px dotted black;border-radius: 0.25em;box-sizing: border-box;margin-bottom: 0.5em;}#sk-25ce7f95-1032-45b7-808f-9a1fc972be9b div.sk-estimator:hover {background-color: #d4ebff;}#sk-25ce7f95-1032-45b7-808f-9a1fc972be9b div.sk-parallel-item::after {content: \"\";width: 100%;border-bottom: 1px solid gray;flex-grow: 1;}#sk-25ce7f95-1032-45b7-808f-9a1fc972be9b div.sk-label:hover label.sk-toggleable__label {background-color: #d4ebff;}#sk-25ce7f95-1032-45b7-808f-9a1fc972be9b div.sk-serial::before {content: \"\";position: absolute;border-left: 1px solid gray;box-sizing: border-box;top: 2em;bottom: 0;left: 50%;}#sk-25ce7f95-1032-45b7-808f-9a1fc972be9b div.sk-serial {display: flex;flex-direction: column;align-items: center;background-color: white;padding-right: 0.2em;padding-left: 0.2em;}#sk-25ce7f95-1032-45b7-808f-9a1fc972be9b div.sk-item {z-index: 1;}#sk-25ce7f95-1032-45b7-808f-9a1fc972be9b div.sk-parallel {display: flex;align-items: stretch;justify-content: center;background-color: white;}#sk-25ce7f95-1032-45b7-808f-9a1fc972be9b div.sk-parallel::before {content: \"\";position: absolute;border-left: 1px solid gray;box-sizing: border-box;top: 2em;bottom: 0;left: 50%;}#sk-25ce7f95-1032-45b7-808f-9a1fc972be9b div.sk-parallel-item {display: flex;flex-direction: column;position: relative;background-color: white;}#sk-25ce7f95-1032-45b7-808f-9a1fc972be9b div.sk-parallel-item:first-child::after {align-self: flex-end;width: 50%;}#sk-25ce7f95-1032-45b7-808f-9a1fc972be9b div.sk-parallel-item:last-child::after {align-self: flex-start;width: 50%;}#sk-25ce7f95-1032-45b7-808f-9a1fc972be9b div.sk-parallel-item:only-child::after {width: 0;}#sk-25ce7f95-1032-45b7-808f-9a1fc972be9b div.sk-dashed-wrapped {border: 1px dashed gray;margin: 0 0.4em 0.5em 0.4em;box-sizing: border-box;padding-bottom: 0.4em;background-color: white;position: relative;}#sk-25ce7f95-1032-45b7-808f-9a1fc972be9b div.sk-label label {font-family: monospace;font-weight: bold;background-color: white;display: inline-block;line-height: 1.2em;}#sk-25ce7f95-1032-45b7-808f-9a1fc972be9b div.sk-label-container {position: relative;z-index: 2;text-align: center;}#sk-25ce7f95-1032-45b7-808f-9a1fc972be9b div.sk-container {/* jupyter's `normalize.less` sets `[hidden] { display: none; }` but bootstrap.min.css set `[hidden] { display: none !important; }` so we also need the `!important` here to be able to override the default hidden behavior on the sphinx rendered scikit-learn.org. See: https://github.com/scikit-learn/scikit-learn/issues/21755 */display: inline-block !important;position: relative;}#sk-25ce7f95-1032-45b7-808f-9a1fc972be9b div.sk-text-repr-fallback {display: none;}</style><div id=\"sk-25ce7f95-1032-45b7-808f-9a1fc972be9b\" class=\"sk-top-container\"><div class=\"sk-text-repr-fallback\"><pre>Pipeline(steps=[(&#x27;columntransformer&#x27;,\n",
       "                 ColumnTransformer(transformers=[(&#x27;pipeline-1&#x27;,\n",
       "                                                  Pipeline(steps=[(&#x27;simpleimputer&#x27;,\n",
       "                                                                   SimpleImputer(strategy=&#x27;most_frequent&#x27;)),\n",
       "                                                                  (&#x27;onehotencoder&#x27;,\n",
       "                                                                   OneHotEncoder(handle_unknown=&#x27;ignore&#x27;))]),\n",
       "                                                  [&#x27;MSZoning&#x27;, &#x27;Street&#x27;,\n",
       "                                                   &#x27;Alley&#x27;, &#x27;LotShape&#x27;,\n",
       "                                                   &#x27;LandContour&#x27;, &#x27;Utilities&#x27;,\n",
       "                                                   &#x27;LotConfig&#x27;, &#x27;LandSlope&#x27;,\n",
       "                                                   &#x27;BldgType&#x27;, &#x27;RoofStyle&#x27;,\n",
       "                                                   &#x27;MasVnrType&#x27;, &#x27;ExterQu...\n",
       "       &#x27;BsmtFinSF2&#x27;, &#x27;BsmtUnfSF&#x27;, &#x27;TotalBsmtSF&#x27;, &#x27;1stFlrSF&#x27;, &#x27;2ndFlrSF&#x27;,\n",
       "       &#x27;LowQualFinSF&#x27;, &#x27;GrLivArea&#x27;, &#x27;BsmtFullBath&#x27;, &#x27;BsmtHalfBath&#x27;, &#x27;FullBath&#x27;,\n",
       "       &#x27;HalfBath&#x27;, &#x27;BedroomAbvGr&#x27;, &#x27;KitchenAbvGr&#x27;, &#x27;TotRmsAbvGrd&#x27;,\n",
       "       &#x27;Fireplaces&#x27;, &#x27;GarageYrBlt&#x27;, &#x27;GarageCars&#x27;, &#x27;GarageArea&#x27;, &#x27;WoodDeckSF&#x27;,\n",
       "       &#x27;OpenPorchSF&#x27;, &#x27;EnclosedPorch&#x27;, &#x27;3SsnPorch&#x27;, &#x27;ScreenPorch&#x27;, &#x27;PoolArea&#x27;,\n",
       "       &#x27;MiscVal&#x27;, &#x27;MoSold&#x27;, &#x27;YrSold&#x27;],\n",
       "      dtype=&#x27;object&#x27;))])),\n",
       "                (&#x27;ridge&#x27;, Ridge())])</pre><b>Please rerun this cell to show the HTML repr or trust the notebook.</b></div><div class=\"sk-container\" hidden><div class=\"sk-item sk-dashed-wrapped\"><div class=\"sk-label-container\"><div class=\"sk-label sk-toggleable\"><input class=\"sk-toggleable__control sk-hidden--visually\" id=\"8caa1f51-8b86-4417-8609-364cae1337c2\" type=\"checkbox\" ><label for=\"8caa1f51-8b86-4417-8609-364cae1337c2\" class=\"sk-toggleable__label sk-toggleable__label-arrow\">Pipeline</label><div class=\"sk-toggleable__content\"><pre>Pipeline(steps=[(&#x27;columntransformer&#x27;,\n",
       "                 ColumnTransformer(transformers=[(&#x27;pipeline-1&#x27;,\n",
       "                                                  Pipeline(steps=[(&#x27;simpleimputer&#x27;,\n",
       "                                                                   SimpleImputer(strategy=&#x27;most_frequent&#x27;)),\n",
       "                                                                  (&#x27;onehotencoder&#x27;,\n",
       "                                                                   OneHotEncoder(handle_unknown=&#x27;ignore&#x27;))]),\n",
       "                                                  [&#x27;MSZoning&#x27;, &#x27;Street&#x27;,\n",
       "                                                   &#x27;Alley&#x27;, &#x27;LotShape&#x27;,\n",
       "                                                   &#x27;LandContour&#x27;, &#x27;Utilities&#x27;,\n",
       "                                                   &#x27;LotConfig&#x27;, &#x27;LandSlope&#x27;,\n",
       "                                                   &#x27;BldgType&#x27;, &#x27;RoofStyle&#x27;,\n",
       "                                                   &#x27;MasVnrType&#x27;, &#x27;ExterQu...\n",
       "       &#x27;BsmtFinSF2&#x27;, &#x27;BsmtUnfSF&#x27;, &#x27;TotalBsmtSF&#x27;, &#x27;1stFlrSF&#x27;, &#x27;2ndFlrSF&#x27;,\n",
       "       &#x27;LowQualFinSF&#x27;, &#x27;GrLivArea&#x27;, &#x27;BsmtFullBath&#x27;, &#x27;BsmtHalfBath&#x27;, &#x27;FullBath&#x27;,\n",
       "       &#x27;HalfBath&#x27;, &#x27;BedroomAbvGr&#x27;, &#x27;KitchenAbvGr&#x27;, &#x27;TotRmsAbvGrd&#x27;,\n",
       "       &#x27;Fireplaces&#x27;, &#x27;GarageYrBlt&#x27;, &#x27;GarageCars&#x27;, &#x27;GarageArea&#x27;, &#x27;WoodDeckSF&#x27;,\n",
       "       &#x27;OpenPorchSF&#x27;, &#x27;EnclosedPorch&#x27;, &#x27;3SsnPorch&#x27;, &#x27;ScreenPorch&#x27;, &#x27;PoolArea&#x27;,\n",
       "       &#x27;MiscVal&#x27;, &#x27;MoSold&#x27;, &#x27;YrSold&#x27;],\n",
       "      dtype=&#x27;object&#x27;))])),\n",
       "                (&#x27;ridge&#x27;, Ridge())])</pre></div></div></div><div class=\"sk-serial\"><div class=\"sk-item sk-dashed-wrapped\"><div class=\"sk-label-container\"><div class=\"sk-label sk-toggleable\"><input class=\"sk-toggleable__control sk-hidden--visually\" id=\"6951778a-1bbb-49ce-8ec4-55a9a8789416\" type=\"checkbox\" ><label for=\"6951778a-1bbb-49ce-8ec4-55a9a8789416\" class=\"sk-toggleable__label sk-toggleable__label-arrow\">columntransformer: ColumnTransformer</label><div class=\"sk-toggleable__content\"><pre>ColumnTransformer(transformers=[(&#x27;pipeline-1&#x27;,\n",
       "                                 Pipeline(steps=[(&#x27;simpleimputer&#x27;,\n",
       "                                                  SimpleImputer(strategy=&#x27;most_frequent&#x27;)),\n",
       "                                                 (&#x27;onehotencoder&#x27;,\n",
       "                                                  OneHotEncoder(handle_unknown=&#x27;ignore&#x27;))]),\n",
       "                                 [&#x27;MSZoning&#x27;, &#x27;Street&#x27;, &#x27;Alley&#x27;, &#x27;LotShape&#x27;,\n",
       "                                  &#x27;LandContour&#x27;, &#x27;Utilities&#x27;, &#x27;LotConfig&#x27;,\n",
       "                                  &#x27;LandSlope&#x27;, &#x27;BldgType&#x27;, &#x27;RoofStyle&#x27;,\n",
       "                                  &#x27;MasVnrType&#x27;, &#x27;ExterQual&#x27;, &#x27;ExterCond&#x27;,\n",
       "                                  &#x27;Foundation&#x27;, &#x27;BsmtQua...\n",
       "       &#x27;BsmtFinSF2&#x27;, &#x27;BsmtUnfSF&#x27;, &#x27;TotalBsmtSF&#x27;, &#x27;1stFlrSF&#x27;, &#x27;2ndFlrSF&#x27;,\n",
       "       &#x27;LowQualFinSF&#x27;, &#x27;GrLivArea&#x27;, &#x27;BsmtFullBath&#x27;, &#x27;BsmtHalfBath&#x27;, &#x27;FullBath&#x27;,\n",
       "       &#x27;HalfBath&#x27;, &#x27;BedroomAbvGr&#x27;, &#x27;KitchenAbvGr&#x27;, &#x27;TotRmsAbvGrd&#x27;,\n",
       "       &#x27;Fireplaces&#x27;, &#x27;GarageYrBlt&#x27;, &#x27;GarageCars&#x27;, &#x27;GarageArea&#x27;, &#x27;WoodDeckSF&#x27;,\n",
       "       &#x27;OpenPorchSF&#x27;, &#x27;EnclosedPorch&#x27;, &#x27;3SsnPorch&#x27;, &#x27;ScreenPorch&#x27;, &#x27;PoolArea&#x27;,\n",
       "       &#x27;MiscVal&#x27;, &#x27;MoSold&#x27;, &#x27;YrSold&#x27;],\n",
       "      dtype=&#x27;object&#x27;))])</pre></div></div></div><div class=\"sk-parallel\"><div class=\"sk-parallel-item\"><div class=\"sk-item\"><div class=\"sk-label-container\"><div class=\"sk-label sk-toggleable\"><input class=\"sk-toggleable__control sk-hidden--visually\" id=\"fee43518-0483-47da-92b1-22cc1cd066fe\" type=\"checkbox\" ><label for=\"fee43518-0483-47da-92b1-22cc1cd066fe\" class=\"sk-toggleable__label sk-toggleable__label-arrow\">pipeline-1</label><div class=\"sk-toggleable__content\"><pre>[&#x27;MSZoning&#x27;, &#x27;Street&#x27;, &#x27;Alley&#x27;, &#x27;LotShape&#x27;, &#x27;LandContour&#x27;, &#x27;Utilities&#x27;, &#x27;LotConfig&#x27;, &#x27;LandSlope&#x27;, &#x27;BldgType&#x27;, &#x27;RoofStyle&#x27;, &#x27;MasVnrType&#x27;, &#x27;ExterQual&#x27;, &#x27;ExterCond&#x27;, &#x27;Foundation&#x27;, &#x27;BsmtQual&#x27;, &#x27;BsmtCond&#x27;, &#x27;BsmtExposure&#x27;, &#x27;BsmtFinType1&#x27;, &#x27;BsmtFinType2&#x27;, &#x27;Heating&#x27;, &#x27;HeatingQC&#x27;, &#x27;CentralAir&#x27;, &#x27;Electrical&#x27;, &#x27;KitchenQual&#x27;, &#x27;FireplaceQu&#x27;, &#x27;GarageType&#x27;, &#x27;GarageFinish&#x27;, &#x27;GarageQual&#x27;, &#x27;GarageCond&#x27;, &#x27;PavedDrive&#x27;, &#x27;PoolQC&#x27;, &#x27;Fence&#x27;, &#x27;MiscFeature&#x27;, &#x27;SaleCondition&#x27;]</pre></div></div></div><div class=\"sk-serial\"><div class=\"sk-item\"><div class=\"sk-serial\"><div class=\"sk-item\"><div class=\"sk-estimator sk-toggleable\"><input class=\"sk-toggleable__control sk-hidden--visually\" id=\"52d9e896-d0af-49c2-a8f5-e34bf3cfa9ea\" type=\"checkbox\" ><label for=\"52d9e896-d0af-49c2-a8f5-e34bf3cfa9ea\" class=\"sk-toggleable__label sk-toggleable__label-arrow\">SimpleImputer</label><div class=\"sk-toggleable__content\"><pre>SimpleImputer(strategy=&#x27;most_frequent&#x27;)</pre></div></div></div><div class=\"sk-item\"><div class=\"sk-estimator sk-toggleable\"><input class=\"sk-toggleable__control sk-hidden--visually\" id=\"38582f7b-1648-47c0-8616-99d6ec573648\" type=\"checkbox\" ><label for=\"38582f7b-1648-47c0-8616-99d6ec573648\" class=\"sk-toggleable__label sk-toggleable__label-arrow\">OneHotEncoder</label><div class=\"sk-toggleable__content\"><pre>OneHotEncoder(handle_unknown=&#x27;ignore&#x27;)</pre></div></div></div></div></div></div></div></div><div class=\"sk-parallel-item\"><div class=\"sk-item\"><div class=\"sk-label-container\"><div class=\"sk-label sk-toggleable\"><input class=\"sk-toggleable__control sk-hidden--visually\" id=\"3c5b4805-8302-4054-9964-bbb439092b17\" type=\"checkbox\" ><label for=\"3c5b4805-8302-4054-9964-bbb439092b17\" class=\"sk-toggleable__label sk-toggleable__label-arrow\">pipeline-2</label><div class=\"sk-toggleable__content\"><pre>Index([&#x27;Id&#x27;, &#x27;MSSubClass&#x27;, &#x27;LotFrontage&#x27;, &#x27;LotArea&#x27;, &#x27;OverallQual&#x27;,\n",
       "       &#x27;OverallCond&#x27;, &#x27;YearBuilt&#x27;, &#x27;YearRemodAdd&#x27;, &#x27;MasVnrArea&#x27;, &#x27;BsmtFinSF1&#x27;,\n",
       "       &#x27;BsmtFinSF2&#x27;, &#x27;BsmtUnfSF&#x27;, &#x27;TotalBsmtSF&#x27;, &#x27;1stFlrSF&#x27;, &#x27;2ndFlrSF&#x27;,\n",
       "       &#x27;LowQualFinSF&#x27;, &#x27;GrLivArea&#x27;, &#x27;BsmtFullBath&#x27;, &#x27;BsmtHalfBath&#x27;, &#x27;FullBath&#x27;,\n",
       "       &#x27;HalfBath&#x27;, &#x27;BedroomAbvGr&#x27;, &#x27;KitchenAbvGr&#x27;, &#x27;TotRmsAbvGrd&#x27;,\n",
       "       &#x27;Fireplaces&#x27;, &#x27;GarageYrBlt&#x27;, &#x27;GarageCars&#x27;, &#x27;GarageArea&#x27;, &#x27;WoodDeckSF&#x27;,\n",
       "       &#x27;OpenPorchSF&#x27;, &#x27;EnclosedPorch&#x27;, &#x27;3SsnPorch&#x27;, &#x27;ScreenPorch&#x27;, &#x27;PoolArea&#x27;,\n",
       "       &#x27;MiscVal&#x27;, &#x27;MoSold&#x27;, &#x27;YrSold&#x27;],\n",
       "      dtype=&#x27;object&#x27;)</pre></div></div></div><div class=\"sk-serial\"><div class=\"sk-item\"><div class=\"sk-serial\"><div class=\"sk-item\"><div class=\"sk-estimator sk-toggleable\"><input class=\"sk-toggleable__control sk-hidden--visually\" id=\"067005e9-92fb-4565-8c01-da088d9f7ba6\" type=\"checkbox\" ><label for=\"067005e9-92fb-4565-8c01-da088d9f7ba6\" class=\"sk-toggleable__label sk-toggleable__label-arrow\">SimpleImputer</label><div class=\"sk-toggleable__content\"><pre>SimpleImputer()</pre></div></div></div><div class=\"sk-item\"><div class=\"sk-estimator sk-toggleable\"><input class=\"sk-toggleable__control sk-hidden--visually\" id=\"ecb466c4-abaf-4a78-bc17-1d53065cf57c\" type=\"checkbox\" ><label for=\"ecb466c4-abaf-4a78-bc17-1d53065cf57c\" class=\"sk-toggleable__label sk-toggleable__label-arrow\">MinMaxScaler</label><div class=\"sk-toggleable__content\"><pre>MinMaxScaler()</pre></div></div></div></div></div></div></div></div></div></div><div class=\"sk-item\"><div class=\"sk-estimator sk-toggleable\"><input class=\"sk-toggleable__control sk-hidden--visually\" id=\"e6d2f76d-a16b-4b5c-bc2e-748a69bad95f\" type=\"checkbox\" ><label for=\"e6d2f76d-a16b-4b5c-bc2e-748a69bad95f\" class=\"sk-toggleable__label sk-toggleable__label-arrow\">Ridge</label><div class=\"sk-toggleable__content\"><pre>Ridge()</pre></div></div></div></div></div></div></div>"
      ],
      "text/plain": [
       "Pipeline(steps=[('columntransformer',\n",
       "                 ColumnTransformer(transformers=[('pipeline-1',\n",
       "                                                  Pipeline(steps=[('simpleimputer',\n",
       "                                                                   SimpleImputer(strategy='most_frequent')),\n",
       "                                                                  ('onehotencoder',\n",
       "                                                                   OneHotEncoder(handle_unknown='ignore'))]),\n",
       "                                                  ['MSZoning', 'Street',\n",
       "                                                   'Alley', 'LotShape',\n",
       "                                                   'LandContour', 'Utilities',\n",
       "                                                   'LotConfig', 'LandSlope',\n",
       "                                                   'BldgType', 'RoofStyle',\n",
       "                                                   'MasVnrType', 'ExterQu...\n",
       "       'BsmtFinSF2', 'BsmtUnfSF', 'TotalBsmtSF', '1stFlrSF', '2ndFlrSF',\n",
       "       'LowQualFinSF', 'GrLivArea', 'BsmtFullBath', 'BsmtHalfBath', 'FullBath',\n",
       "       'HalfBath', 'BedroomAbvGr', 'KitchenAbvGr', 'TotRmsAbvGrd',\n",
       "       'Fireplaces', 'GarageYrBlt', 'GarageCars', 'GarageArea', 'WoodDeckSF',\n",
       "       'OpenPorchSF', 'EnclosedPorch', '3SsnPorch', 'ScreenPorch', 'PoolArea',\n",
       "       'MiscVal', 'MoSold', 'YrSold'],\n",
       "      dtype='object'))])),\n",
       "                ('ridge', Ridge())])"
      ]
     },
     "execution_count": 23,
     "metadata": {},
     "output_type": "execute_result"
    }
   ],
   "source": [
    "pipe_baseline = make_pipeline(preproc_baseline, Ridge())\n",
    "pipe_baseline"
   ]
  },
  {
   "cell_type": "code",
   "execution_count": 26,
   "metadata": {},
   "outputs": [],
   "source": [
    "def root_mean_squared_log_error(y_true, y_pred):\n",
    "    t = np.array(y_true)\n",
    "    p = np.array(y_pred)\n",
    "    log_error = np.log(1+t) - np.log(1+p)\n",
    "    return ((log_error**2).mean())**0.5\n",
    "\n",
    "# This is our metric to minimize\n",
    "rmsle = make_scorer(root_mean_squared_log_error)\n",
    "\n",
    "# This is our score to maximize\n",
    "rmsle_neg = make_scorer(lambda y_true, y_pred: -1 * root_mean_squared_log_error(y_true, y_pred))"
   ]
  },
  {
   "cell_type": "code",
   "execution_count": 27,
   "metadata": {},
   "outputs": [
    {
     "data": {
      "text/plain": [
       "-0.16631913339626264"
      ]
     },
     "execution_count": 27,
     "metadata": {},
     "output_type": "execute_result"
    }
   ],
   "source": [
    "score_baseline = cross_val_score(pipe_baseline, X, y, cv=5, scoring = rmsle_neg).mean()\n",
    "score_baseline"
   ]
  },
  {
   "cell_type": "markdown",
   "metadata": {},
   "source": [
    "## Real preprocessing"
   ]
  },
  {
   "cell_type": "markdown",
   "metadata": {},
   "source": [
    "### Ordinal Encoding"
   ]
  },
  {
   "cell_type": "code",
   "execution_count": 28,
   "metadata": {},
   "outputs": [],
   "source": [
    "X = X.where(pd.notnull(X), None)"
   ]
  },
  {
   "cell_type": "code",
   "execution_count": 29,
   "metadata": {},
   "outputs": [],
   "source": [
    "X = X.drop(columns='Id')\n",
    "num_col = list(X.select_dtypes(exclude='object').columns)"
   ]
  },
  {
   "cell_type": "code",
   "execution_count": 30,
   "metadata": {
    "ExecuteTime": {
     "end_time": "2021-02-02T15:51:51.765333Z",
     "start_time": "2021-02-02T15:51:51.758709Z"
    }
   },
   "outputs": [
    {
     "data": {
      "text/plain": [
       "array([[0., 0., 0., ..., 0., 4., 4.],\n",
       "       [0., 0., 0., ..., 0., 4., 4.],\n",
       "       [1., 0., 0., ..., 0., 4., 4.],\n",
       "       ...,\n",
       "       [0., 0., 0., ..., 0., 4., 0.],\n",
       "       [0., 0., 0., ..., 0., 4., 4.],\n",
       "       [0., 0., 0., ..., 0., 4., 4.]])"
      ]
     },
     "execution_count": 30,
     "metadata": {},
     "output_type": "execute_result"
    }
   ],
   "source": [
    "lot_shape = ['Reg', 'IR1', 'IR2','IR3']\n",
    "land_contour = ['Lvl', 'Bnk', 'HLS','Low']\n",
    "utilities = ['AllPub', 'NoSewr', 'NoSeWa','ELO']\n",
    "land_slope = ['Gtl', 'Mod', 'Sev']\n",
    "exter_qual = ['Ex', 'Gd', 'TA', 'Fa', 'Po']\n",
    "exter_cond = ['Ex', 'Gd', 'TA', 'Fa', 'Po']\n",
    "bsmt_qual = ['Ex', 'Gd', 'TA', 'Fa', 'Po', None]\n",
    "bsmt_cond = ['Ex', 'Gd', 'TA', 'Fa', 'Po', None]\n",
    "bsmt_exposure = ['Gd', 'Av', 'Mn', 'No', None]\n",
    "bsmt_fin_type1 = ['GLQ', 'ALQ', 'BLQ', 'Rec', 'LwQ', 'Unf', None]\n",
    "bsmt_fin_type2 =  ['GLQ', 'ALQ', 'BLQ', 'Rec', 'LwQ', 'Unf', None]\n",
    "heating_qc = ['Ex', 'Gd', 'TA', 'Fa', 'Po']\n",
    "kitchen_qual = ['Ex', 'Gd', 'TA', 'Fa', 'Po']\n",
    "fireplace_qu = ['Ex', 'Gd', 'TA', 'Fa', 'Po', None]\n",
    "garage_finish = ['Fin', 'RFn', 'Unf', None]\n",
    "garage_qual = ['Ex', 'Gd', 'TA', 'Fa', 'Po', None]\n",
    "garage_cond = ['Ex', 'Gd', 'TA', 'Fa', 'Po', None]\n",
    "paved_drive = ['Y', 'P', 'N']\n",
    "pool_qc = ['Ex', 'Gd', 'TA', 'Fa', None]\n",
    "fence = ['GdPrv', 'MnPrv', 'GdWo', 'MnWw', None]\n",
    "\n",
    "categories = [lot_shape, land_contour, utilities, land_slope, exter_qual, exter_cond,\n",
    "              bsmt_qual, bsmt_cond, bsmt_exposure, bsmt_fin_type1, bsmt_fin_type2,\n",
    "              heating_qc, kitchen_qual, fireplace_qu, garage_finish, garage_qual,\n",
    "              garage_cond, paved_drive, pool_qc, fence]\n",
    "\n",
    "columns = ['LotShape', 'LandContour', 'Utilities',\n",
    "       'LandSlope', 'ExterQual', 'ExterCond', 'BsmtQual', 'BsmtCond',\n",
    "       'BsmtExposure', 'BsmtFinType1', 'BsmtFinType2', 'HeatingQC',\n",
    "       'KitchenQual', 'FireplaceQu', 'GarageFinish', 'GarageQual',\n",
    "       'GarageCond', 'PavedDrive', 'PoolQC', 'Fence']\n",
    "\n",
    "encoder = OrdinalEncoder(\n",
    "    categories=categories,\n",
    "    handle_unknown=\"use_encoded_value\",\n",
    "    unknown_value=-1\n",
    ")\n",
    "\n",
    "encoder.fit(X[columns])\n",
    "\n",
    "encoder.transform(X[columns])"
   ]
  },
  {
   "cell_type": "markdown",
   "metadata": {},
   "source": [
    "### Pipeline with all encoders"
   ]
  },
  {
   "cell_type": "code",
   "execution_count": 49,
   "metadata": {
    "tags": [
     "challengify"
    ]
   },
   "outputs": [
    {
     "data": {
      "text/html": [
       "<style>#sk-767ed113-9a41-465b-aff1-301b440410c0 {color: black;background-color: white;}#sk-767ed113-9a41-465b-aff1-301b440410c0 pre{padding: 0;}#sk-767ed113-9a41-465b-aff1-301b440410c0 div.sk-toggleable {background-color: white;}#sk-767ed113-9a41-465b-aff1-301b440410c0 label.sk-toggleable__label {cursor: pointer;display: block;width: 100%;margin-bottom: 0;padding: 0.3em;box-sizing: border-box;text-align: center;}#sk-767ed113-9a41-465b-aff1-301b440410c0 label.sk-toggleable__label-arrow:before {content: \"▸\";float: left;margin-right: 0.25em;color: #696969;}#sk-767ed113-9a41-465b-aff1-301b440410c0 label.sk-toggleable__label-arrow:hover:before {color: black;}#sk-767ed113-9a41-465b-aff1-301b440410c0 div.sk-estimator:hover label.sk-toggleable__label-arrow:before {color: black;}#sk-767ed113-9a41-465b-aff1-301b440410c0 div.sk-toggleable__content {max-height: 0;max-width: 0;overflow: hidden;text-align: left;background-color: #f0f8ff;}#sk-767ed113-9a41-465b-aff1-301b440410c0 div.sk-toggleable__content pre {margin: 0.2em;color: black;border-radius: 0.25em;background-color: #f0f8ff;}#sk-767ed113-9a41-465b-aff1-301b440410c0 input.sk-toggleable__control:checked~div.sk-toggleable__content {max-height: 200px;max-width: 100%;overflow: auto;}#sk-767ed113-9a41-465b-aff1-301b440410c0 input.sk-toggleable__control:checked~label.sk-toggleable__label-arrow:before {content: \"▾\";}#sk-767ed113-9a41-465b-aff1-301b440410c0 div.sk-estimator input.sk-toggleable__control:checked~label.sk-toggleable__label {background-color: #d4ebff;}#sk-767ed113-9a41-465b-aff1-301b440410c0 div.sk-label input.sk-toggleable__control:checked~label.sk-toggleable__label {background-color: #d4ebff;}#sk-767ed113-9a41-465b-aff1-301b440410c0 input.sk-hidden--visually {border: 0;clip: rect(1px 1px 1px 1px);clip: rect(1px, 1px, 1px, 1px);height: 1px;margin: -1px;overflow: hidden;padding: 0;position: absolute;width: 1px;}#sk-767ed113-9a41-465b-aff1-301b440410c0 div.sk-estimator {font-family: monospace;background-color: #f0f8ff;border: 1px dotted black;border-radius: 0.25em;box-sizing: border-box;margin-bottom: 0.5em;}#sk-767ed113-9a41-465b-aff1-301b440410c0 div.sk-estimator:hover {background-color: #d4ebff;}#sk-767ed113-9a41-465b-aff1-301b440410c0 div.sk-parallel-item::after {content: \"\";width: 100%;border-bottom: 1px solid gray;flex-grow: 1;}#sk-767ed113-9a41-465b-aff1-301b440410c0 div.sk-label:hover label.sk-toggleable__label {background-color: #d4ebff;}#sk-767ed113-9a41-465b-aff1-301b440410c0 div.sk-serial::before {content: \"\";position: absolute;border-left: 1px solid gray;box-sizing: border-box;top: 2em;bottom: 0;left: 50%;}#sk-767ed113-9a41-465b-aff1-301b440410c0 div.sk-serial {display: flex;flex-direction: column;align-items: center;background-color: white;padding-right: 0.2em;padding-left: 0.2em;}#sk-767ed113-9a41-465b-aff1-301b440410c0 div.sk-item {z-index: 1;}#sk-767ed113-9a41-465b-aff1-301b440410c0 div.sk-parallel {display: flex;align-items: stretch;justify-content: center;background-color: white;}#sk-767ed113-9a41-465b-aff1-301b440410c0 div.sk-parallel::before {content: \"\";position: absolute;border-left: 1px solid gray;box-sizing: border-box;top: 2em;bottom: 0;left: 50%;}#sk-767ed113-9a41-465b-aff1-301b440410c0 div.sk-parallel-item {display: flex;flex-direction: column;position: relative;background-color: white;}#sk-767ed113-9a41-465b-aff1-301b440410c0 div.sk-parallel-item:first-child::after {align-self: flex-end;width: 50%;}#sk-767ed113-9a41-465b-aff1-301b440410c0 div.sk-parallel-item:last-child::after {align-self: flex-start;width: 50%;}#sk-767ed113-9a41-465b-aff1-301b440410c0 div.sk-parallel-item:only-child::after {width: 0;}#sk-767ed113-9a41-465b-aff1-301b440410c0 div.sk-dashed-wrapped {border: 1px dashed gray;margin: 0 0.4em 0.5em 0.4em;box-sizing: border-box;padding-bottom: 0.4em;background-color: white;position: relative;}#sk-767ed113-9a41-465b-aff1-301b440410c0 div.sk-label label {font-family: monospace;font-weight: bold;background-color: white;display: inline-block;line-height: 1.2em;}#sk-767ed113-9a41-465b-aff1-301b440410c0 div.sk-label-container {position: relative;z-index: 2;text-align: center;}#sk-767ed113-9a41-465b-aff1-301b440410c0 div.sk-container {/* jupyter's `normalize.less` sets `[hidden] { display: none; }` but bootstrap.min.css set `[hidden] { display: none !important; }` so we also need the `!important` here to be able to override the default hidden behavior on the sphinx rendered scikit-learn.org. See: https://github.com/scikit-learn/scikit-learn/issues/21755 */display: inline-block !important;position: relative;}#sk-767ed113-9a41-465b-aff1-301b440410c0 div.sk-text-repr-fallback {display: none;}</style><div id=\"sk-767ed113-9a41-465b-aff1-301b440410c0\" class=\"sk-top-container\"><div class=\"sk-text-repr-fallback\"><pre>ColumnTransformer(transformers=[(&#x27;pipeline-1&#x27;,\n",
       "                                 Pipeline(steps=[(&#x27;simpleimputer&#x27;,\n",
       "                                                  SimpleImputer()),\n",
       "                                                 (&#x27;minmaxscaler&#x27;,\n",
       "                                                  MinMaxScaler())]),\n",
       "                                 [&#x27;MSSubClass&#x27;, &#x27;LotArea&#x27;, &#x27;OverallQual&#x27;,\n",
       "                                  &#x27;OverallCond&#x27;, &#x27;YearBuilt&#x27;, &#x27;YearRemodAdd&#x27;,\n",
       "                                  &#x27;BsmtFinSF1&#x27;, &#x27;BsmtFinSF2&#x27;, &#x27;BsmtUnfSF&#x27;,\n",
       "                                  &#x27;TotalBsmtSF&#x27;, &#x27;1stFlrSF&#x27;, &#x27;2ndFlrSF&#x27;,\n",
       "                                  &#x27;LowQualFinSF&#x27;, &#x27;GrLivArea&#x27;, &#x27;BsmtFullBath&#x27;,\n",
       "                                  &#x27;BsmtHalfBath&#x27;, &#x27;FullBath&#x27;...\n",
       "                                  &#x27;PoolQC&#x27;, &#x27;Fence&#x27;]),\n",
       "                                (&#x27;pipeline-3&#x27;,\n",
       "                                 Pipeline(steps=[(&#x27;simpleimputer&#x27;,\n",
       "                                                  SimpleImputer(strategy=&#x27;most_frequent&#x27;)),\n",
       "                                                 (&#x27;onehotencoder&#x27;,\n",
       "                                                  OneHotEncoder(handle_unknown=&#x27;ignore&#x27;))]),\n",
       "                                 Index([&#x27;MSZoning&#x27;, &#x27;Street&#x27;, &#x27;Alley&#x27;, &#x27;LotConfig&#x27;, &#x27;BldgType&#x27;, &#x27;RoofStyle&#x27;,\n",
       "       &#x27;MasVnrType&#x27;, &#x27;Foundation&#x27;, &#x27;Heating&#x27;, &#x27;CentralAir&#x27;, &#x27;Electrical&#x27;,\n",
       "       &#x27;GarageType&#x27;, &#x27;MiscFeature&#x27;, &#x27;SaleCondition&#x27;],\n",
       "      dtype=&#x27;object&#x27;))])</pre><b>Please rerun this cell to show the HTML repr or trust the notebook.</b></div><div class=\"sk-container\" hidden><div class=\"sk-item sk-dashed-wrapped\"><div class=\"sk-label-container\"><div class=\"sk-label sk-toggleable\"><input class=\"sk-toggleable__control sk-hidden--visually\" id=\"41b8279c-4f09-4594-8885-1db10e202809\" type=\"checkbox\" ><label for=\"41b8279c-4f09-4594-8885-1db10e202809\" class=\"sk-toggleable__label sk-toggleable__label-arrow\">ColumnTransformer</label><div class=\"sk-toggleable__content\"><pre>ColumnTransformer(transformers=[(&#x27;pipeline-1&#x27;,\n",
       "                                 Pipeline(steps=[(&#x27;simpleimputer&#x27;,\n",
       "                                                  SimpleImputer()),\n",
       "                                                 (&#x27;minmaxscaler&#x27;,\n",
       "                                                  MinMaxScaler())]),\n",
       "                                 [&#x27;MSSubClass&#x27;, &#x27;LotArea&#x27;, &#x27;OverallQual&#x27;,\n",
       "                                  &#x27;OverallCond&#x27;, &#x27;YearBuilt&#x27;, &#x27;YearRemodAdd&#x27;,\n",
       "                                  &#x27;BsmtFinSF1&#x27;, &#x27;BsmtFinSF2&#x27;, &#x27;BsmtUnfSF&#x27;,\n",
       "                                  &#x27;TotalBsmtSF&#x27;, &#x27;1stFlrSF&#x27;, &#x27;2ndFlrSF&#x27;,\n",
       "                                  &#x27;LowQualFinSF&#x27;, &#x27;GrLivArea&#x27;, &#x27;BsmtFullBath&#x27;,\n",
       "                                  &#x27;BsmtHalfBath&#x27;, &#x27;FullBath&#x27;...\n",
       "                                  &#x27;PoolQC&#x27;, &#x27;Fence&#x27;]),\n",
       "                                (&#x27;pipeline-3&#x27;,\n",
       "                                 Pipeline(steps=[(&#x27;simpleimputer&#x27;,\n",
       "                                                  SimpleImputer(strategy=&#x27;most_frequent&#x27;)),\n",
       "                                                 (&#x27;onehotencoder&#x27;,\n",
       "                                                  OneHotEncoder(handle_unknown=&#x27;ignore&#x27;))]),\n",
       "                                 Index([&#x27;MSZoning&#x27;, &#x27;Street&#x27;, &#x27;Alley&#x27;, &#x27;LotConfig&#x27;, &#x27;BldgType&#x27;, &#x27;RoofStyle&#x27;,\n",
       "       &#x27;MasVnrType&#x27;, &#x27;Foundation&#x27;, &#x27;Heating&#x27;, &#x27;CentralAir&#x27;, &#x27;Electrical&#x27;,\n",
       "       &#x27;GarageType&#x27;, &#x27;MiscFeature&#x27;, &#x27;SaleCondition&#x27;],\n",
       "      dtype=&#x27;object&#x27;))])</pre></div></div></div><div class=\"sk-parallel\"><div class=\"sk-parallel-item\"><div class=\"sk-item\"><div class=\"sk-label-container\"><div class=\"sk-label sk-toggleable\"><input class=\"sk-toggleable__control sk-hidden--visually\" id=\"af21ff82-7a17-4ccf-8de5-7630025e17ed\" type=\"checkbox\" ><label for=\"af21ff82-7a17-4ccf-8de5-7630025e17ed\" class=\"sk-toggleable__label sk-toggleable__label-arrow\">pipeline-1</label><div class=\"sk-toggleable__content\"><pre>[&#x27;MSSubClass&#x27;, &#x27;LotArea&#x27;, &#x27;OverallQual&#x27;, &#x27;OverallCond&#x27;, &#x27;YearBuilt&#x27;, &#x27;YearRemodAdd&#x27;, &#x27;BsmtFinSF1&#x27;, &#x27;BsmtFinSF2&#x27;, &#x27;BsmtUnfSF&#x27;, &#x27;TotalBsmtSF&#x27;, &#x27;1stFlrSF&#x27;, &#x27;2ndFlrSF&#x27;, &#x27;LowQualFinSF&#x27;, &#x27;GrLivArea&#x27;, &#x27;BsmtFullBath&#x27;, &#x27;BsmtHalfBath&#x27;, &#x27;FullBath&#x27;, &#x27;HalfBath&#x27;, &#x27;BedroomAbvGr&#x27;, &#x27;KitchenAbvGr&#x27;, &#x27;TotRmsAbvGrd&#x27;, &#x27;Fireplaces&#x27;, &#x27;GarageCars&#x27;, &#x27;GarageArea&#x27;, &#x27;WoodDeckSF&#x27;, &#x27;OpenPorchSF&#x27;, &#x27;EnclosedPorch&#x27;, &#x27;3SsnPorch&#x27;, &#x27;ScreenPorch&#x27;, &#x27;PoolArea&#x27;, &#x27;MiscVal&#x27;, &#x27;MoSold&#x27;, &#x27;YrSold&#x27;]</pre></div></div></div><div class=\"sk-serial\"><div class=\"sk-item\"><div class=\"sk-serial\"><div class=\"sk-item\"><div class=\"sk-estimator sk-toggleable\"><input class=\"sk-toggleable__control sk-hidden--visually\" id=\"64fbcab9-1b75-4eb6-a1bd-3deca9ecfd16\" type=\"checkbox\" ><label for=\"64fbcab9-1b75-4eb6-a1bd-3deca9ecfd16\" class=\"sk-toggleable__label sk-toggleable__label-arrow\">SimpleImputer</label><div class=\"sk-toggleable__content\"><pre>SimpleImputer()</pre></div></div></div><div class=\"sk-item\"><div class=\"sk-estimator sk-toggleable\"><input class=\"sk-toggleable__control sk-hidden--visually\" id=\"d99dc20c-7d2d-4d06-bc73-13727bf8f132\" type=\"checkbox\" ><label for=\"d99dc20c-7d2d-4d06-bc73-13727bf8f132\" class=\"sk-toggleable__label sk-toggleable__label-arrow\">MinMaxScaler</label><div class=\"sk-toggleable__content\"><pre>MinMaxScaler()</pre></div></div></div></div></div></div></div></div><div class=\"sk-parallel-item\"><div class=\"sk-item\"><div class=\"sk-label-container\"><div class=\"sk-label sk-toggleable\"><input class=\"sk-toggleable__control sk-hidden--visually\" id=\"1a4ed986-8de0-41d7-837f-7c8a12c9b68d\" type=\"checkbox\" ><label for=\"1a4ed986-8de0-41d7-837f-7c8a12c9b68d\" class=\"sk-toggleable__label sk-toggleable__label-arrow\">pipeline-2</label><div class=\"sk-toggleable__content\"><pre>[&#x27;LotShape&#x27;, &#x27;LandContour&#x27;, &#x27;Utilities&#x27;, &#x27;LandSlope&#x27;, &#x27;ExterQual&#x27;, &#x27;ExterCond&#x27;, &#x27;BsmtQual&#x27;, &#x27;BsmtCond&#x27;, &#x27;BsmtExposure&#x27;, &#x27;BsmtFinType1&#x27;, &#x27;BsmtFinType2&#x27;, &#x27;HeatingQC&#x27;, &#x27;KitchenQual&#x27;, &#x27;FireplaceQu&#x27;, &#x27;GarageFinish&#x27;, &#x27;GarageQual&#x27;, &#x27;GarageCond&#x27;, &#x27;PavedDrive&#x27;, &#x27;PoolQC&#x27;, &#x27;Fence&#x27;]</pre></div></div></div><div class=\"sk-serial\"><div class=\"sk-item\"><div class=\"sk-serial\"><div class=\"sk-item\"><div class=\"sk-estimator sk-toggleable\"><input class=\"sk-toggleable__control sk-hidden--visually\" id=\"4816757d-ff0b-4536-bdbb-3c61f7bfa490\" type=\"checkbox\" ><label for=\"4816757d-ff0b-4536-bdbb-3c61f7bfa490\" class=\"sk-toggleable__label sk-toggleable__label-arrow\">SimpleImputer</label><div class=\"sk-toggleable__content\"><pre>SimpleImputer(strategy=&#x27;most_frequent&#x27;)</pre></div></div></div><div class=\"sk-item\"><div class=\"sk-estimator sk-toggleable\"><input class=\"sk-toggleable__control sk-hidden--visually\" id=\"c693ccd9-0a0a-4858-be78-8b4c2da14771\" type=\"checkbox\" ><label for=\"c693ccd9-0a0a-4858-be78-8b4c2da14771\" class=\"sk-toggleable__label sk-toggleable__label-arrow\">OrdinalEncoder</label><div class=\"sk-toggleable__content\"><pre>OrdinalEncoder(categories=[[&#x27;Reg&#x27;, &#x27;IR1&#x27;, &#x27;IR2&#x27;, &#x27;IR3&#x27;],\n",
       "                           [&#x27;Lvl&#x27;, &#x27;Bnk&#x27;, &#x27;HLS&#x27;, &#x27;Low&#x27;],\n",
       "                           [&#x27;AllPub&#x27;, &#x27;NoSewr&#x27;, &#x27;NoSeWa&#x27;, &#x27;ELO&#x27;],\n",
       "                           [&#x27;Gtl&#x27;, &#x27;Mod&#x27;, &#x27;Sev&#x27;],\n",
       "                           [&#x27;Ex&#x27;, &#x27;Gd&#x27;, &#x27;TA&#x27;, &#x27;Fa&#x27;, &#x27;Po&#x27;],\n",
       "                           [&#x27;Ex&#x27;, &#x27;Gd&#x27;, &#x27;TA&#x27;, &#x27;Fa&#x27;, &#x27;Po&#x27;],\n",
       "                           [&#x27;Ex&#x27;, &#x27;Gd&#x27;, &#x27;TA&#x27;, &#x27;Fa&#x27;, &#x27;Po&#x27;, None],\n",
       "                           [&#x27;Ex&#x27;, &#x27;Gd&#x27;, &#x27;TA&#x27;, &#x27;Fa&#x27;, &#x27;Po&#x27;, None],\n",
       "                           [&#x27;Gd&#x27;, &#x27;Av&#x27;, &#x27;Mn&#x27;, &#x27;No&#x27;, None],\n",
       "                           [&#x27;GLQ&#x27;, &#x27;ALQ&#x27;, &#x27;BLQ&#x27;, &#x27;Rec&#x27;, &#x27;LwQ&#x27;, &#x27;Unf&#x27;, None],\n",
       "                           [&#x27;GLQ&#x27;, &#x27;ALQ&#x27;, &#x27;BLQ&#x27;, &#x27;Rec&#x27;, &#x27;LwQ&#x27;, &#x27;Unf&#x27;, None],\n",
       "                           [&#x27;Ex&#x27;, &#x27;Gd&#x27;, &#x27;TA&#x27;, &#x27;Fa&#x27;, &#x27;Po&#x27;],\n",
       "                           [&#x27;Ex&#x27;, &#x27;Gd&#x27;, &#x27;TA&#x27;, &#x27;Fa&#x27;, &#x27;Po&#x27;],\n",
       "                           [&#x27;Ex&#x27;, &#x27;Gd&#x27;, &#x27;TA&#x27;, &#x27;Fa&#x27;, &#x27;Po&#x27;, None],\n",
       "                           [&#x27;Fin&#x27;, &#x27;RFn&#x27;, &#x27;Unf&#x27;, None],\n",
       "                           [&#x27;Ex&#x27;, &#x27;Gd&#x27;, &#x27;TA&#x27;, &#x27;Fa&#x27;, &#x27;Po&#x27;, None],\n",
       "                           [&#x27;Ex&#x27;, &#x27;Gd&#x27;, &#x27;TA&#x27;, &#x27;Fa&#x27;, &#x27;Po&#x27;, None],\n",
       "                           [&#x27;Y&#x27;, &#x27;P&#x27;, &#x27;N&#x27;], [&#x27;Ex&#x27;, &#x27;Gd&#x27;, &#x27;TA&#x27;, &#x27;Fa&#x27;, None],\n",
       "                           [&#x27;GdPrv&#x27;, &#x27;MnPrv&#x27;, &#x27;GdWo&#x27;, &#x27;MnWw&#x27;, None]])</pre></div></div></div></div></div></div></div></div><div class=\"sk-parallel-item\"><div class=\"sk-item\"><div class=\"sk-label-container\"><div class=\"sk-label sk-toggleable\"><input class=\"sk-toggleable__control sk-hidden--visually\" id=\"734f2a64-1bb8-4a51-b07c-50ab0a43d4fc\" type=\"checkbox\" ><label for=\"734f2a64-1bb8-4a51-b07c-50ab0a43d4fc\" class=\"sk-toggleable__label sk-toggleable__label-arrow\">pipeline-3</label><div class=\"sk-toggleable__content\"><pre>Index([&#x27;MSZoning&#x27;, &#x27;Street&#x27;, &#x27;Alley&#x27;, &#x27;LotConfig&#x27;, &#x27;BldgType&#x27;, &#x27;RoofStyle&#x27;,\n",
       "       &#x27;MasVnrType&#x27;, &#x27;Foundation&#x27;, &#x27;Heating&#x27;, &#x27;CentralAir&#x27;, &#x27;Electrical&#x27;,\n",
       "       &#x27;GarageType&#x27;, &#x27;MiscFeature&#x27;, &#x27;SaleCondition&#x27;],\n",
       "      dtype=&#x27;object&#x27;)</pre></div></div></div><div class=\"sk-serial\"><div class=\"sk-item\"><div class=\"sk-serial\"><div class=\"sk-item\"><div class=\"sk-estimator sk-toggleable\"><input class=\"sk-toggleable__control sk-hidden--visually\" id=\"a0cfe03e-4e54-4051-9562-682414e8e0a1\" type=\"checkbox\" ><label for=\"a0cfe03e-4e54-4051-9562-682414e8e0a1\" class=\"sk-toggleable__label sk-toggleable__label-arrow\">SimpleImputer</label><div class=\"sk-toggleable__content\"><pre>SimpleImputer(strategy=&#x27;most_frequent&#x27;)</pre></div></div></div><div class=\"sk-item\"><div class=\"sk-estimator sk-toggleable\"><input class=\"sk-toggleable__control sk-hidden--visually\" id=\"01e0e007-eae9-4d96-803a-3e67220a400d\" type=\"checkbox\" ><label for=\"01e0e007-eae9-4d96-803a-3e67220a400d\" class=\"sk-toggleable__label sk-toggleable__label-arrow\">OneHotEncoder</label><div class=\"sk-toggleable__content\"><pre>OneHotEncoder(handle_unknown=&#x27;ignore&#x27;)</pre></div></div></div></div></div></div></div></div></div></div></div></div>"
      ],
      "text/plain": [
       "ColumnTransformer(transformers=[('pipeline-1',\n",
       "                                 Pipeline(steps=[('simpleimputer',\n",
       "                                                  SimpleImputer()),\n",
       "                                                 ('minmaxscaler',\n",
       "                                                  MinMaxScaler())]),\n",
       "                                 ['MSSubClass', 'LotArea', 'OverallQual',\n",
       "                                  'OverallCond', 'YearBuilt', 'YearRemodAdd',\n",
       "                                  'BsmtFinSF1', 'BsmtFinSF2', 'BsmtUnfSF',\n",
       "                                  'TotalBsmtSF', '1stFlrSF', '2ndFlrSF',\n",
       "                                  'LowQualFinSF', 'GrLivArea', 'BsmtFullBath',\n",
       "                                  'BsmtHalfBath', 'FullBath'...\n",
       "                                  'PoolQC', 'Fence']),\n",
       "                                ('pipeline-3',\n",
       "                                 Pipeline(steps=[('simpleimputer',\n",
       "                                                  SimpleImputer(strategy='most_frequent')),\n",
       "                                                 ('onehotencoder',\n",
       "                                                  OneHotEncoder(handle_unknown='ignore'))]),\n",
       "                                 Index(['MSZoning', 'Street', 'Alley', 'LotConfig', 'BldgType', 'RoofStyle',\n",
       "       'MasVnrType', 'Foundation', 'Heating', 'CentralAir', 'Electrical',\n",
       "       'GarageType', 'MiscFeature', 'SaleCondition'],\n",
       "      dtype='object'))])"
      ]
     },
     "execution_count": 49,
     "metadata": {},
     "output_type": "execute_result"
    }
   ],
   "source": [
    "preproc_nominal = X[feat_categorical_small].drop(columns=columns).columns\n",
    "preproc_ordinal = columns\n",
    "\n",
    "\n",
    "oho_transform = make_pipeline(SimpleImputer(strategy='most_frequent'), OneHotEncoder(handle_unknown='ignore'))\n",
    "label_transform = make_pipeline(SimpleImputer(strategy='most_frequent'), OrdinalEncoder(categories=categories))\n",
    "num_transform = make_pipeline(SimpleImputer(strategy='mean'), MinMaxScaler())\n",
    "\n",
    "preproc = make_column_transformer((num_transform, num_col),\n",
    "                                           (label_transform, preproc_ordinal),\n",
    "                                           (oho_transform, preproc_nominal),\n",
    "                                 remainder=\"drop\")\n",
    "\n",
    "\n",
    "preproc"
   ]
  },
  {
   "cell_type": "markdown",
   "metadata": {},
   "source": [
    "### Target engineering"
   ]
  },
  {
   "cell_type": "code",
   "execution_count": 50,
   "metadata": {},
   "outputs": [
    {
     "data": {
      "text/plain": [
       "<AxesSubplot:xlabel='SalePrice', ylabel='Count'>"
      ]
     },
     "execution_count": 50,
     "metadata": {},
     "output_type": "execute_result"
    },
    {
     "data": {
      "image/png": "[encoded data removed]",
      "text/plain": [
       "<Figure size 432x288 with 1 Axes>"
      ]
     },
     "metadata": {
      "needs_background": "light"
     },
     "output_type": "display_data"
    }
   ],
   "source": [
    "y_log = np.log10(y)\n",
    "sns.histplot(x=y_log, kde=True)"
   ]
  },
  {
   "cell_type": "code",
   "execution_count": 51,
   "metadata": {},
   "outputs": [],
   "source": [
    "rmse = make_scorer(lambda y_true, y_pred: mean_squared_error(y_true, y_pred)**0.5)\n",
    "rmse_neg = make_scorer(lambda y_true, y_pred: -1 * mean_squared_error(y_true, y_pred)**0.5)"
   ]
  },
  {
   "cell_type": "markdown",
   "metadata": {},
   "source": [
    "### Feature Selection"
   ]
  },
  {
   "cell_type": "code",
   "execution_count": 52,
   "metadata": {
    "tags": [
     "challengify"
    ]
   },
   "outputs": [
    {
     "data": {
      "text/html": [
       "<style>#sk-875dcaa7-1c09-41a0-9a0e-b4cf36fae419 {color: black;background-color: white;}#sk-875dcaa7-1c09-41a0-9a0e-b4cf36fae419 pre{padding: 0;}#sk-875dcaa7-1c09-41a0-9a0e-b4cf36fae419 div.sk-toggleable {background-color: white;}#sk-875dcaa7-1c09-41a0-9a0e-b4cf36fae419 label.sk-toggleable__label {cursor: pointer;display: block;width: 100%;margin-bottom: 0;padding: 0.3em;box-sizing: border-box;text-align: center;}#sk-875dcaa7-1c09-41a0-9a0e-b4cf36fae419 label.sk-toggleable__label-arrow:before {content: \"▸\";float: left;margin-right: 0.25em;color: #696969;}#sk-875dcaa7-1c09-41a0-9a0e-b4cf36fae419 label.sk-toggleable__label-arrow:hover:before {color: black;}#sk-875dcaa7-1c09-41a0-9a0e-b4cf36fae419 div.sk-estimator:hover label.sk-toggleable__label-arrow:before {color: black;}#sk-875dcaa7-1c09-41a0-9a0e-b4cf36fae419 div.sk-toggleable__content {max-height: 0;max-width: 0;overflow: hidden;text-align: left;background-color: #f0f8ff;}#sk-875dcaa7-1c09-41a0-9a0e-b4cf36fae419 div.sk-toggleable__content pre {margin: 0.2em;color: black;border-radius: 0.25em;background-color: #f0f8ff;}#sk-875dcaa7-1c09-41a0-9a0e-b4cf36fae419 input.sk-toggleable__control:checked~div.sk-toggleable__content {max-height: 200px;max-width: 100%;overflow: auto;}#sk-875dcaa7-1c09-41a0-9a0e-b4cf36fae419 input.sk-toggleable__control:checked~label.sk-toggleable__label-arrow:before {content: \"▾\";}#sk-875dcaa7-1c09-41a0-9a0e-b4cf36fae419 div.sk-estimator input.sk-toggleable__control:checked~label.sk-toggleable__label {background-color: #d4ebff;}#sk-875dcaa7-1c09-41a0-9a0e-b4cf36fae419 div.sk-label input.sk-toggleable__control:checked~label.sk-toggleable__label {background-color: #d4ebff;}#sk-875dcaa7-1c09-41a0-9a0e-b4cf36fae419 input.sk-hidden--visually {border: 0;clip: rect(1px 1px 1px 1px);clip: rect(1px, 1px, 1px, 1px);height: 1px;margin: -1px;overflow: hidden;padding: 0;position: absolute;width: 1px;}#sk-875dcaa7-1c09-41a0-9a0e-b4cf36fae419 div.sk-estimator {font-family: monospace;background-color: #f0f8ff;border: 1px dotted black;border-radius: 0.25em;box-sizing: border-box;margin-bottom: 0.5em;}#sk-875dcaa7-1c09-41a0-9a0e-b4cf36fae419 div.sk-estimator:hover {background-color: #d4ebff;}#sk-875dcaa7-1c09-41a0-9a0e-b4cf36fae419 div.sk-parallel-item::after {content: \"\";width: 100%;border-bottom: 1px solid gray;flex-grow: 1;}#sk-875dcaa7-1c09-41a0-9a0e-b4cf36fae419 div.sk-label:hover label.sk-toggleable__label {background-color: #d4ebff;}#sk-875dcaa7-1c09-41a0-9a0e-b4cf36fae419 div.sk-serial::before {content: \"\";position: absolute;border-left: 1px solid gray;box-sizing: border-box;top: 2em;bottom: 0;left: 50%;}#sk-875dcaa7-1c09-41a0-9a0e-b4cf36fae419 div.sk-serial {display: flex;flex-direction: column;align-items: center;background-color: white;padding-right: 0.2em;padding-left: 0.2em;}#sk-875dcaa7-1c09-41a0-9a0e-b4cf36fae419 div.sk-item {z-index: 1;}#sk-875dcaa7-1c09-41a0-9a0e-b4cf36fae419 div.sk-parallel {display: flex;align-items: stretch;justify-content: center;background-color: white;}#sk-875dcaa7-1c09-41a0-9a0e-b4cf36fae419 div.sk-parallel::before {content: \"\";position: absolute;border-left: 1px solid gray;box-sizing: border-box;top: 2em;bottom: 0;left: 50%;}#sk-875dcaa7-1c09-41a0-9a0e-b4cf36fae419 div.sk-parallel-item {display: flex;flex-direction: column;position: relative;background-color: white;}#sk-875dcaa7-1c09-41a0-9a0e-b4cf36fae419 div.sk-parallel-item:first-child::after {align-self: flex-end;width: 50%;}#sk-875dcaa7-1c09-41a0-9a0e-b4cf36fae419 div.sk-parallel-item:last-child::after {align-self: flex-start;width: 50%;}#sk-875dcaa7-1c09-41a0-9a0e-b4cf36fae419 div.sk-parallel-item:only-child::after {width: 0;}#sk-875dcaa7-1c09-41a0-9a0e-b4cf36fae419 div.sk-dashed-wrapped {border: 1px dashed gray;margin: 0 0.4em 0.5em 0.4em;box-sizing: border-box;padding-bottom: 0.4em;background-color: white;position: relative;}#sk-875dcaa7-1c09-41a0-9a0e-b4cf36fae419 div.sk-label label {font-family: monospace;font-weight: bold;background-color: white;display: inline-block;line-height: 1.2em;}#sk-875dcaa7-1c09-41a0-9a0e-b4cf36fae419 div.sk-label-container {position: relative;z-index: 2;text-align: center;}#sk-875dcaa7-1c09-41a0-9a0e-b4cf36fae419 div.sk-container {/* jupyter's `normalize.less` sets `[hidden] { display: none; }` but bootstrap.min.css set `[hidden] { display: none !important; }` so we also need the `!important` here to be able to override the default hidden behavior on the sphinx rendered scikit-learn.org. See: https://github.com/scikit-learn/scikit-learn/issues/21755 */display: inline-block !important;position: relative;}#sk-875dcaa7-1c09-41a0-9a0e-b4cf36fae419 div.sk-text-repr-fallback {display: none;}</style><div id=\"sk-875dcaa7-1c09-41a0-9a0e-b4cf36fae419\" class=\"sk-top-container\"><div class=\"sk-text-repr-fallback\"><pre>Pipeline(steps=[(&#x27;columntransformer&#x27;,\n",
       "                 ColumnTransformer(transformers=[(&#x27;pipeline-1&#x27;,\n",
       "                                                  Pipeline(steps=[(&#x27;simpleimputer&#x27;,\n",
       "                                                                   SimpleImputer()),\n",
       "                                                                  (&#x27;minmaxscaler&#x27;,\n",
       "                                                                   MinMaxScaler())]),\n",
       "                                                  [&#x27;MSSubClass&#x27;, &#x27;LotArea&#x27;,\n",
       "                                                   &#x27;OverallQual&#x27;, &#x27;OverallCond&#x27;,\n",
       "                                                   &#x27;YearBuilt&#x27;, &#x27;YearRemodAdd&#x27;,\n",
       "                                                   &#x27;BsmtFinSF1&#x27;, &#x27;BsmtFinSF2&#x27;,\n",
       "                                                   &#x27;BsmtUnfSF&#x27;, &#x27;TotalBsmtSF&#x27;,\n",
       "                                                   &#x27;1stFlrSF&#x27;, &#x27;2ndFlrSF&#x27;,\n",
       "                                                   &#x27;LowQualFinSF&#x27;, &#x27;GrLivArea&#x27;,\n",
       "                                                   &#x27;Bs...\n",
       "                                                                   OneHotEncoder(handle_unknown=&#x27;ignore&#x27;))]),\n",
       "                                                  Index([&#x27;MSZoning&#x27;, &#x27;Street&#x27;, &#x27;Alley&#x27;, &#x27;LotConfig&#x27;, &#x27;BldgType&#x27;, &#x27;RoofStyle&#x27;,\n",
       "       &#x27;MasVnrType&#x27;, &#x27;Foundation&#x27;, &#x27;Heating&#x27;, &#x27;CentralAir&#x27;, &#x27;Electrical&#x27;,\n",
       "       &#x27;GarageType&#x27;, &#x27;MiscFeature&#x27;, &#x27;SaleCondition&#x27;],\n",
       "      dtype=&#x27;object&#x27;))])),\n",
       "                (&#x27;selectpercentile&#x27;,\n",
       "                 SelectPercentile(percentile=50,\n",
       "                                  score_func=&lt;function mutual_info_regression at 0x7f21f3d1a550&gt;))])</pre><b>Please rerun this cell to show the HTML repr or trust the notebook.</b></div><div class=\"sk-container\" hidden><div class=\"sk-item sk-dashed-wrapped\"><div class=\"sk-label-container\"><div class=\"sk-label sk-toggleable\"><input class=\"sk-toggleable__control sk-hidden--visually\" id=\"b58c7c01-0271-4848-a9bc-97c6090c10c7\" type=\"checkbox\" ><label for=\"b58c7c01-0271-4848-a9bc-97c6090c10c7\" class=\"sk-toggleable__label sk-toggleable__label-arrow\">Pipeline</label><div class=\"sk-toggleable__content\"><pre>Pipeline(steps=[(&#x27;columntransformer&#x27;,\n",
       "                 ColumnTransformer(transformers=[(&#x27;pipeline-1&#x27;,\n",
       "                                                  Pipeline(steps=[(&#x27;simpleimputer&#x27;,\n",
       "                                                                   SimpleImputer()),\n",
       "                                                                  (&#x27;minmaxscaler&#x27;,\n",
       "                                                                   MinMaxScaler())]),\n",
       "                                                  [&#x27;MSSubClass&#x27;, &#x27;LotArea&#x27;,\n",
       "                                                   &#x27;OverallQual&#x27;, &#x27;OverallCond&#x27;,\n",
       "                                                   &#x27;YearBuilt&#x27;, &#x27;YearRemodAdd&#x27;,\n",
       "                                                   &#x27;BsmtFinSF1&#x27;, &#x27;BsmtFinSF2&#x27;,\n",
       "                                                   &#x27;BsmtUnfSF&#x27;, &#x27;TotalBsmtSF&#x27;,\n",
       "                                                   &#x27;1stFlrSF&#x27;, &#x27;2ndFlrSF&#x27;,\n",
       "                                                   &#x27;LowQualFinSF&#x27;, &#x27;GrLivArea&#x27;,\n",
       "                                                   &#x27;Bs...\n",
       "                                                                   OneHotEncoder(handle_unknown=&#x27;ignore&#x27;))]),\n",
       "                                                  Index([&#x27;MSZoning&#x27;, &#x27;Street&#x27;, &#x27;Alley&#x27;, &#x27;LotConfig&#x27;, &#x27;BldgType&#x27;, &#x27;RoofStyle&#x27;,\n",
       "       &#x27;MasVnrType&#x27;, &#x27;Foundation&#x27;, &#x27;Heating&#x27;, &#x27;CentralAir&#x27;, &#x27;Electrical&#x27;,\n",
       "       &#x27;GarageType&#x27;, &#x27;MiscFeature&#x27;, &#x27;SaleCondition&#x27;],\n",
       "      dtype=&#x27;object&#x27;))])),\n",
       "                (&#x27;selectpercentile&#x27;,\n",
       "                 SelectPercentile(percentile=50,\n",
       "                                  score_func=&lt;function mutual_info_regression at 0x7f21f3d1a550&gt;))])</pre></div></div></div><div class=\"sk-serial\"><div class=\"sk-item sk-dashed-wrapped\"><div class=\"sk-label-container\"><div class=\"sk-label sk-toggleable\"><input class=\"sk-toggleable__control sk-hidden--visually\" id=\"d042e2fc-2a96-4a39-ad4e-4b2165d0f82f\" type=\"checkbox\" ><label for=\"d042e2fc-2a96-4a39-ad4e-4b2165d0f82f\" class=\"sk-toggleable__label sk-toggleable__label-arrow\">columntransformer: ColumnTransformer</label><div class=\"sk-toggleable__content\"><pre>ColumnTransformer(transformers=[(&#x27;pipeline-1&#x27;,\n",
       "                                 Pipeline(steps=[(&#x27;simpleimputer&#x27;,\n",
       "                                                  SimpleImputer()),\n",
       "                                                 (&#x27;minmaxscaler&#x27;,\n",
       "                                                  MinMaxScaler())]),\n",
       "                                 [&#x27;MSSubClass&#x27;, &#x27;LotArea&#x27;, &#x27;OverallQual&#x27;,\n",
       "                                  &#x27;OverallCond&#x27;, &#x27;YearBuilt&#x27;, &#x27;YearRemodAdd&#x27;,\n",
       "                                  &#x27;BsmtFinSF1&#x27;, &#x27;BsmtFinSF2&#x27;, &#x27;BsmtUnfSF&#x27;,\n",
       "                                  &#x27;TotalBsmtSF&#x27;, &#x27;1stFlrSF&#x27;, &#x27;2ndFlrSF&#x27;,\n",
       "                                  &#x27;LowQualFinSF&#x27;, &#x27;GrLivArea&#x27;, &#x27;BsmtFullBath&#x27;,\n",
       "                                  &#x27;BsmtHalfBath&#x27;, &#x27;FullBath&#x27;...\n",
       "                                  &#x27;PoolQC&#x27;, &#x27;Fence&#x27;]),\n",
       "                                (&#x27;pipeline-3&#x27;,\n",
       "                                 Pipeline(steps=[(&#x27;simpleimputer&#x27;,\n",
       "                                                  SimpleImputer(strategy=&#x27;most_frequent&#x27;)),\n",
       "                                                 (&#x27;onehotencoder&#x27;,\n",
       "                                                  OneHotEncoder(handle_unknown=&#x27;ignore&#x27;))]),\n",
       "                                 Index([&#x27;MSZoning&#x27;, &#x27;Street&#x27;, &#x27;Alley&#x27;, &#x27;LotConfig&#x27;, &#x27;BldgType&#x27;, &#x27;RoofStyle&#x27;,\n",
       "       &#x27;MasVnrType&#x27;, &#x27;Foundation&#x27;, &#x27;Heating&#x27;, &#x27;CentralAir&#x27;, &#x27;Electrical&#x27;,\n",
       "       &#x27;GarageType&#x27;, &#x27;MiscFeature&#x27;, &#x27;SaleCondition&#x27;],\n",
       "      dtype=&#x27;object&#x27;))])</pre></div></div></div><div class=\"sk-parallel\"><div class=\"sk-parallel-item\"><div class=\"sk-item\"><div class=\"sk-label-container\"><div class=\"sk-label sk-toggleable\"><input class=\"sk-toggleable__control sk-hidden--visually\" id=\"c530b8ab-245e-4c85-883c-47d24bdd172c\" type=\"checkbox\" ><label for=\"c530b8ab-245e-4c85-883c-47d24bdd172c\" class=\"sk-toggleable__label sk-toggleable__label-arrow\">pipeline-1</label><div class=\"sk-toggleable__content\"><pre>[&#x27;MSSubClass&#x27;, &#x27;LotArea&#x27;, &#x27;OverallQual&#x27;, &#x27;OverallCond&#x27;, &#x27;YearBuilt&#x27;, &#x27;YearRemodAdd&#x27;, &#x27;BsmtFinSF1&#x27;, &#x27;BsmtFinSF2&#x27;, &#x27;BsmtUnfSF&#x27;, &#x27;TotalBsmtSF&#x27;, &#x27;1stFlrSF&#x27;, &#x27;2ndFlrSF&#x27;, &#x27;LowQualFinSF&#x27;, &#x27;GrLivArea&#x27;, &#x27;BsmtFullBath&#x27;, &#x27;BsmtHalfBath&#x27;, &#x27;FullBath&#x27;, &#x27;HalfBath&#x27;, &#x27;BedroomAbvGr&#x27;, &#x27;KitchenAbvGr&#x27;, &#x27;TotRmsAbvGrd&#x27;, &#x27;Fireplaces&#x27;, &#x27;GarageCars&#x27;, &#x27;GarageArea&#x27;, &#x27;WoodDeckSF&#x27;, &#x27;OpenPorchSF&#x27;, &#x27;EnclosedPorch&#x27;, &#x27;3SsnPorch&#x27;, &#x27;ScreenPorch&#x27;, &#x27;PoolArea&#x27;, &#x27;MiscVal&#x27;, &#x27;MoSold&#x27;, &#x27;YrSold&#x27;]</pre></div></div></div><div class=\"sk-serial\"><div class=\"sk-item\"><div class=\"sk-serial\"><div class=\"sk-item\"><div class=\"sk-estimator sk-toggleable\"><input class=\"sk-toggleable__control sk-hidden--visually\" id=\"495a86da-58cb-4d9d-afab-97dac0615575\" type=\"checkbox\" ><label for=\"495a86da-58cb-4d9d-afab-97dac0615575\" class=\"sk-toggleable__label sk-toggleable__label-arrow\">SimpleImputer</label><div class=\"sk-toggleable__content\"><pre>SimpleImputer()</pre></div></div></div><div class=\"sk-item\"><div class=\"sk-estimator sk-toggleable\"><input class=\"sk-toggleable__control sk-hidden--visually\" id=\"c5a66ab9-8f2c-4ba2-9cd8-ff67578fa57a\" type=\"checkbox\" ><label for=\"c5a66ab9-8f2c-4ba2-9cd8-ff67578fa57a\" class=\"sk-toggleable__label sk-toggleable__label-arrow\">MinMaxScaler</label><div class=\"sk-toggleable__content\"><pre>MinMaxScaler()</pre></div></div></div></div></div></div></div></div><div class=\"sk-parallel-item\"><div class=\"sk-item\"><div class=\"sk-label-container\"><div class=\"sk-label sk-toggleable\"><input class=\"sk-toggleable__control sk-hidden--visually\" id=\"19f7288e-c716-4ab3-b72d-1ad3ac876704\" type=\"checkbox\" ><label for=\"19f7288e-c716-4ab3-b72d-1ad3ac876704\" class=\"sk-toggleable__label sk-toggleable__label-arrow\">pipeline-2</label><div class=\"sk-toggleable__content\"><pre>[&#x27;LotShape&#x27;, &#x27;LandContour&#x27;, &#x27;Utilities&#x27;, &#x27;LandSlope&#x27;, &#x27;ExterQual&#x27;, &#x27;ExterCond&#x27;, &#x27;BsmtQual&#x27;, &#x27;BsmtCond&#x27;, &#x27;BsmtExposure&#x27;, &#x27;BsmtFinType1&#x27;, &#x27;BsmtFinType2&#x27;, &#x27;HeatingQC&#x27;, &#x27;KitchenQual&#x27;, &#x27;FireplaceQu&#x27;, &#x27;GarageFinish&#x27;, &#x27;GarageQual&#x27;, &#x27;GarageCond&#x27;, &#x27;PavedDrive&#x27;, &#x27;PoolQC&#x27;, &#x27;Fence&#x27;]</pre></div></div></div><div class=\"sk-serial\"><div class=\"sk-item\"><div class=\"sk-serial\"><div class=\"sk-item\"><div class=\"sk-estimator sk-toggleable\"><input class=\"sk-toggleable__control sk-hidden--visually\" id=\"5954cd5a-daad-4a95-97c5-7e55e78db99a\" type=\"checkbox\" ><label for=\"5954cd5a-daad-4a95-97c5-7e55e78db99a\" class=\"sk-toggleable__label sk-toggleable__label-arrow\">SimpleImputer</label><div class=\"sk-toggleable__content\"><pre>SimpleImputer(strategy=&#x27;most_frequent&#x27;)</pre></div></div></div><div class=\"sk-item\"><div class=\"sk-estimator sk-toggleable\"><input class=\"sk-toggleable__control sk-hidden--visually\" id=\"a6afae80-4903-40b3-b25b-9bce502dc6df\" type=\"checkbox\" ><label for=\"a6afae80-4903-40b3-b25b-9bce502dc6df\" class=\"sk-toggleable__label sk-toggleable__label-arrow\">OrdinalEncoder</label><div class=\"sk-toggleable__content\"><pre>OrdinalEncoder(categories=[[&#x27;Reg&#x27;, &#x27;IR1&#x27;, &#x27;IR2&#x27;, &#x27;IR3&#x27;],\n",
       "                           [&#x27;Lvl&#x27;, &#x27;Bnk&#x27;, &#x27;HLS&#x27;, &#x27;Low&#x27;],\n",
       "                           [&#x27;AllPub&#x27;, &#x27;NoSewr&#x27;, &#x27;NoSeWa&#x27;, &#x27;ELO&#x27;],\n",
       "                           [&#x27;Gtl&#x27;, &#x27;Mod&#x27;, &#x27;Sev&#x27;],\n",
       "                           [&#x27;Ex&#x27;, &#x27;Gd&#x27;, &#x27;TA&#x27;, &#x27;Fa&#x27;, &#x27;Po&#x27;],\n",
       "                           [&#x27;Ex&#x27;, &#x27;Gd&#x27;, &#x27;TA&#x27;, &#x27;Fa&#x27;, &#x27;Po&#x27;],\n",
       "                           [&#x27;Ex&#x27;, &#x27;Gd&#x27;, &#x27;TA&#x27;, &#x27;Fa&#x27;, &#x27;Po&#x27;, None],\n",
       "                           [&#x27;Ex&#x27;, &#x27;Gd&#x27;, &#x27;TA&#x27;, &#x27;Fa&#x27;, &#x27;Po&#x27;, None],\n",
       "                           [&#x27;Gd&#x27;, &#x27;Av&#x27;, &#x27;Mn&#x27;, &#x27;No&#x27;, None],\n",
       "                           [&#x27;GLQ&#x27;, &#x27;ALQ&#x27;, &#x27;BLQ&#x27;, &#x27;Rec&#x27;, &#x27;LwQ&#x27;, &#x27;Unf&#x27;, None],\n",
       "                           [&#x27;GLQ&#x27;, &#x27;ALQ&#x27;, &#x27;BLQ&#x27;, &#x27;Rec&#x27;, &#x27;LwQ&#x27;, &#x27;Unf&#x27;, None],\n",
       "                           [&#x27;Ex&#x27;, &#x27;Gd&#x27;, &#x27;TA&#x27;, &#x27;Fa&#x27;, &#x27;Po&#x27;],\n",
       "                           [&#x27;Ex&#x27;, &#x27;Gd&#x27;, &#x27;TA&#x27;, &#x27;Fa&#x27;, &#x27;Po&#x27;],\n",
       "                           [&#x27;Ex&#x27;, &#x27;Gd&#x27;, &#x27;TA&#x27;, &#x27;Fa&#x27;, &#x27;Po&#x27;, None],\n",
       "                           [&#x27;Fin&#x27;, &#x27;RFn&#x27;, &#x27;Unf&#x27;, None],\n",
       "                           [&#x27;Ex&#x27;, &#x27;Gd&#x27;, &#x27;TA&#x27;, &#x27;Fa&#x27;, &#x27;Po&#x27;, None],\n",
       "                           [&#x27;Ex&#x27;, &#x27;Gd&#x27;, &#x27;TA&#x27;, &#x27;Fa&#x27;, &#x27;Po&#x27;, None],\n",
       "                           [&#x27;Y&#x27;, &#x27;P&#x27;, &#x27;N&#x27;], [&#x27;Ex&#x27;, &#x27;Gd&#x27;, &#x27;TA&#x27;, &#x27;Fa&#x27;, None],\n",
       "                           [&#x27;GdPrv&#x27;, &#x27;MnPrv&#x27;, &#x27;GdWo&#x27;, &#x27;MnWw&#x27;, None]])</pre></div></div></div></div></div></div></div></div><div class=\"sk-parallel-item\"><div class=\"sk-item\"><div class=\"sk-label-container\"><div class=\"sk-label sk-toggleable\"><input class=\"sk-toggleable__control sk-hidden--visually\" id=\"9099a9f5-1310-449a-abb2-b9f36981fa77\" type=\"checkbox\" ><label for=\"9099a9f5-1310-449a-abb2-b9f36981fa77\" class=\"sk-toggleable__label sk-toggleable__label-arrow\">pipeline-3</label><div class=\"sk-toggleable__content\"><pre>Index([&#x27;MSZoning&#x27;, &#x27;Street&#x27;, &#x27;Alley&#x27;, &#x27;LotConfig&#x27;, &#x27;BldgType&#x27;, &#x27;RoofStyle&#x27;,\n",
       "       &#x27;MasVnrType&#x27;, &#x27;Foundation&#x27;, &#x27;Heating&#x27;, &#x27;CentralAir&#x27;, &#x27;Electrical&#x27;,\n",
       "       &#x27;GarageType&#x27;, &#x27;MiscFeature&#x27;, &#x27;SaleCondition&#x27;],\n",
       "      dtype=&#x27;object&#x27;)</pre></div></div></div><div class=\"sk-serial\"><div class=\"sk-item\"><div class=\"sk-serial\"><div class=\"sk-item\"><div class=\"sk-estimator sk-toggleable\"><input class=\"sk-toggleable__control sk-hidden--visually\" id=\"8b6e03a8-246d-42fc-b14f-c5155d02f35b\" type=\"checkbox\" ><label for=\"8b6e03a8-246d-42fc-b14f-c5155d02f35b\" class=\"sk-toggleable__label sk-toggleable__label-arrow\">SimpleImputer</label><div class=\"sk-toggleable__content\"><pre>SimpleImputer(strategy=&#x27;most_frequent&#x27;)</pre></div></div></div><div class=\"sk-item\"><div class=\"sk-estimator sk-toggleable\"><input class=\"sk-toggleable__control sk-hidden--visually\" id=\"97c87caa-e30a-4273-96a8-5cd4f5c9ede5\" type=\"checkbox\" ><label for=\"97c87caa-e30a-4273-96a8-5cd4f5c9ede5\" class=\"sk-toggleable__label sk-toggleable__label-arrow\">OneHotEncoder</label><div class=\"sk-toggleable__content\"><pre>OneHotEncoder(handle_unknown=&#x27;ignore&#x27;)</pre></div></div></div></div></div></div></div></div></div></div><div class=\"sk-item\"><div class=\"sk-estimator sk-toggleable\"><input class=\"sk-toggleable__control sk-hidden--visually\" id=\"55ee966b-f3c1-4826-8fd0-eb9ea1e20302\" type=\"checkbox\" ><label for=\"55ee966b-f3c1-4826-8fd0-eb9ea1e20302\" class=\"sk-toggleable__label sk-toggleable__label-arrow\">SelectPercentile</label><div class=\"sk-toggleable__content\"><pre>SelectPercentile(percentile=50,\n",
       "                 score_func=&lt;function mutual_info_regression at 0x7f21f3d1a550&gt;)</pre></div></div></div></div></div></div></div>"
      ],
      "text/plain": [
       "Pipeline(steps=[('columntransformer',\n",
       "                 ColumnTransformer(transformers=[('pipeline-1',\n",
       "                                                  Pipeline(steps=[('simpleimputer',\n",
       "                                                                   SimpleImputer()),\n",
       "                                                                  ('minmaxscaler',\n",
       "                                                                   MinMaxScaler())]),\n",
       "                                                  ['MSSubClass', 'LotArea',\n",
       "                                                   'OverallQual', 'OverallCond',\n",
       "                                                   'YearBuilt', 'YearRemodAdd',\n",
       "                                                   'BsmtFinSF1', 'BsmtFinSF2',\n",
       "                                                   'BsmtUnfSF', 'TotalBsmtSF',\n",
       "                                                   '1stFlrSF', '2ndFlrSF',\n",
       "                                                   'LowQualFinSF', 'GrLivArea',\n",
       "                                                   'Bs...\n",
       "                                                                   OneHotEncoder(handle_unknown='ignore'))]),\n",
       "                                                  Index(['MSZoning', 'Street', 'Alley', 'LotConfig', 'BldgType', 'RoofStyle',\n",
       "       'MasVnrType', 'Foundation', 'Heating', 'CentralAir', 'Electrical',\n",
       "       'GarageType', 'MiscFeature', 'SaleCondition'],\n",
       "      dtype='object'))])),\n",
       "                ('selectpercentile',\n",
       "                 SelectPercentile(percentile=50,\n",
       "                                  score_func=<function mutual_info_regression at 0x7f21f3d1a550>))])"
      ]
     },
     "execution_count": 52,
     "metadata": {},
     "output_type": "execute_result"
    }
   ],
   "source": [
    "preproc_selector = SelectPercentile(\n",
    "    mutual_info_regression,\n",
    "    percentile=50,\n",
    ")\n",
    "\n",
    "preproc = make_pipeline(\n",
    "    preproc,\n",
    "    preproc_selector,\n",
    ")\n",
    "preproc"
   ]
  },
  {
   "cell_type": "code",
   "execution_count": 55,
   "metadata": {},
   "outputs": [
    {
     "data": {
      "text/plain": [
       "(1460, 61)"
      ]
     },
     "execution_count": 55,
     "metadata": {},
     "output_type": "execute_result"
    }
   ],
   "source": [
    "preproc_fitted = preproc.fit(X,y)\n",
    "preproc_fitted_log = preproc.fit(X,y_log)\n",
    "preproc_fitted_log.transform(X).shape"
   ]
  },
  {
   "cell_type": "code",
   "execution_count": 56,
   "metadata": {},
   "outputs": [
    {
     "data": {
      "text/plain": [
       "array([[0.23529412, 0.0334198 , 0.66666667, ..., 0.        , 1.        ,\n",
       "        0.        ],\n",
       "       [0.        , 0.03879502, 0.55555556, ..., 0.        , 1.        ,\n",
       "        0.        ],\n",
       "       [0.23529412, 0.04650728, 0.66666667, ..., 0.        , 1.        ,\n",
       "        0.        ],\n",
       "       ...,\n",
       "       [0.29411765, 0.03618687, 0.66666667, ..., 0.        , 1.        ,\n",
       "        0.        ],\n",
       "       [0.        , 0.03934189, 0.44444444, ..., 0.        , 1.        ,\n",
       "        0.        ],\n",
       "       [0.        , 0.04037019, 0.44444444, ..., 0.        , 1.        ,\n",
       "        0.        ]])"
      ]
     },
     "execution_count": 56,
     "metadata": {},
     "output_type": "execute_result"
    }
   ],
   "source": [
    "preproc.fit_transform(X, y_log)"
   ]
  },
  {
   "cell_type": "markdown",
   "metadata": {},
   "source": [
    "## Real Models"
   ]
  },
  {
   "cell_type": "markdown",
   "metadata": {},
   "source": [
    "### Linear Models"
   ]
  },
  {
   "cell_type": "code",
   "execution_count": 59,
   "metadata": {},
   "outputs": [
    {
     "data": {
      "text/plain": [
       "0.010185562260257052"
      ]
     },
     "execution_count": 59,
     "metadata": {},
     "output_type": "execute_result"
    }
   ],
   "source": [
    "model = Ridge()\n",
    "pipe_ridge = make_pipeline(preproc, model)\n",
    "cross_val_score(pipe_ridge, X, y_log, cv=5, scoring=rmsle).mean()"
   ]
  },
  {
   "cell_type": "markdown",
   "metadata": {},
   "source": [
    "### KNN"
   ]
  },
  {
   "cell_type": "code",
   "execution_count": 64,
   "metadata": {},
   "outputs": [
    {
     "data": {
      "text/plain": [
       "0.09505132122663654"
      ]
     },
     "execution_count": 64,
     "metadata": {},
     "output_type": "execute_result"
    }
   ],
   "source": [
    "model = KNeighborsRegressor()\n",
    "pipe_knn = make_pipeline(preproc, model)\n",
    "cross_val_score(pipe_knn, X, y_log, cv=5, scoring=rmse).mean()"
   ]
  },
  {
   "cell_type": "markdown",
   "metadata": {},
   "source": [
    "### SVM"
   ]
  },
  {
   "cell_type": "code",
   "execution_count": 68,
   "metadata": {},
   "outputs": [
    {
     "data": {
      "text/plain": [
       "0.0682105144894423"
      ]
     },
     "execution_count": 68,
     "metadata": {},
     "output_type": "execute_result"
    }
   ],
   "source": [
    "model = SVR(kernel='linear')\n",
    "pipe_svm = make_pipeline(preproc, model)\n",
    "cross_val_score(pipe_svm, X, y_log, cv=5, scoring=rmse).mean()"
   ]
  },
  {
   "cell_type": "code",
   "execution_count": 69,
   "metadata": {},
   "outputs": [
    {
     "data": {
      "text/plain": [
       "0.07564795052269059"
      ]
     },
     "execution_count": 69,
     "metadata": {},
     "output_type": "execute_result"
    }
   ],
   "source": [
    "model = SVR(kernel='rbf', C = 10)\n",
    "pipe_svm_rbf = make_pipeline(preproc, model)\n",
    "cross_val_score(pipe_svm_rbf, X, y_log, cv=5, scoring=rmse).mean()"
   ]
  },
  {
   "cell_type": "markdown",
   "metadata": {},
   "source": [
    "### Random Forest"
   ]
  },
  {
   "cell_type": "code",
   "execution_count": 72,
   "metadata": {},
   "outputs": [
    {
     "name": "stdout",
     "output_type": "stream",
     "text": [
      "0.0031762553048766094\n"
     ]
    },
    {
     "data": {
      "text/plain": [
       "0.07065696777235934"
      ]
     },
     "execution_count": 72,
     "metadata": {},
     "output_type": "execute_result"
    }
   ],
   "source": [
    "model = RandomForestRegressor(max_depth=50,min_samples_leaf=20)\n",
    "pipe = make_pipeline(preproc, model)\n",
    "score = cross_val_score(pipe, X, y_log, cv=5, scoring=rmse)\n",
    "print(score.std())\n",
    "score.mean()"
   ]
  },
  {
   "cell_type": "markdown",
   "metadata": {},
   "source": [
    "### XGBoost"
   ]
  },
  {
   "cell_type": "code",
   "execution_count": 76,
   "metadata": {},
   "outputs": [],
   "source": [
    "X_train, X_eval, y_train_log, y_eval_log = train_test_split(X,y_log,random_state=42)"
   ]
  },
  {
   "cell_type": "code",
   "execution_count": 77,
   "metadata": {},
   "outputs": [],
   "source": [
    "model_xgb = XGBRegressor(max_depth=10, n_estimators=300, learning_rate=0.05)"
   ]
  },
  {
   "cell_type": "code",
   "execution_count": null,
   "metadata": {},
   "outputs": [],
   "source": [
    "pipe_xgb = make_pipeline(preproc, model_xgb)\n",
    "cross_val_score(pipe_xgb,X,y_log,cv=5,scoring=rmse,n_jobs=-1).mean()"
   ]
  }
 ],
 "metadata": {
  "kernelspec": {
   "display_name": "Python 3",
   "language": "python",
   "name": "python3"
  },
  "language_info": {
   "codemirror_mode": {
    "name": "ipython",
    "version": 3
   },
   "file_extension": ".py",
   "mimetype": "text/x-python",
   "name": "python",
   "nbconvert_exporter": "python",
   "pygments_lexer": "ipython3",
   "version": "3.8.6"
  },
  "toc": {
   "base_numbering": 1,
   "nav_menu": {},
   "number_sections": true,
   "sideBar": true,
   "skip_h1_title": false,
   "title_cell": "Table of Contents",
   "title_sidebar": "Contents",
   "toc_cell": false,
   "toc_position": {
    "height": "calc(100% - 180px)",
    "left": "10px",
    "top": "150px",
    "width": "282.997px"
   },
   "toc_section_display": true,
   "toc_window_display": true
  },
  "varInspector": {
   "cols": {
    "lenName": 16,
    "lenType": 16,
    "lenVar": 40
   },
   "kernels_config": {
    "python": {
     "delete_cmd_postfix": "",
     "delete_cmd_prefix": "del ",
     "library": "var_list.py",
     "varRefreshCmd": "print(var_dic_list())"
    },
    "r": {
     "delete_cmd_postfix": ") ",
     "delete_cmd_prefix": "rm(",
     "library": "var_list.r",
     "varRefreshCmd": "cat(var_dic_list()) "
    }
   },
   "types_to_exclude": [
    "module",
    "function",
    "builtin_function_or_method",
    "instance",
    "_Feature"
   ],
   "window_display": false
  }
 },
 "nbformat": 4,
 "nbformat_minor": 4
}
